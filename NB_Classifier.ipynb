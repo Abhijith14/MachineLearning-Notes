{
 "cells": [
  {
   "cell_type": "markdown",
   "metadata": {},
   "source": [
    "# Naive Bayes Classifier"
   ]
  },
  {
   "cell_type": "markdown",
   "metadata": {},
   "source": [
    "- turn bayes rule into a classifier.\n",
    "- build a naive bayes model based on observed data.\n",
    "- deal with unseen features in training examples."
   ]
  },
  {
   "cell_type": "markdown",
   "metadata": {},
   "source": [
    "### Bayes Classifier"
   ]
  },
  {
   "cell_type": "markdown",
   "metadata": {},
   "source": [
    "- build based on bayes rule\n",
    "- supervised learning"
   ]
  },
  {
   "cell_type": "markdown",
   "metadata": {},
   "source": [
    "Bayes rule: $P(A|B) = \\frac{P(B|A)P(A)}{P(B)}$"
   ]
  },
  {
   "cell_type": "markdown",
   "metadata": {},
   "source": [
    "or $P(Y|X1, X2, ..., Xn) = \\frac{P(X1, X2, ..., Xn|Y)P(Y)}{P(X1, X2, ..., Xn)}$"
   ]
  },
  {
   "cell_type": "markdown",
   "metadata": {},
   "source": [
    "- $P(Y|X1, X2, ..., Xn)$: posterior probability\n",
    "- $P(X1, X2, ..., Xn|Y)$: likelihood\n",
    "- $P(Y)$: prior probability\n",
    "- $P(X1, X2, ..., Xn)$: evidence"
   ]
  },
  {
   "cell_type": "markdown",
   "metadata": {},
   "source": [
    "### Issues with Bayes Model\n",
    "\n",
    "- too many parameters\n",
    "- run out of space\n",
    "- run out of time"
   ]
  },
  {
   "cell_type": "markdown",
   "metadata": {},
   "source": [
    "<hr>"
   ]
  },
  {
   "cell_type": "markdown",
   "metadata": {},
   "source": [
    "### The Independence Assumption"
   ]
  },
  {
   "cell_type": "markdown",
   "metadata": {},
   "source": [
    "Implement Indepence Assumption; build Naive Bayes Classifier"
   ]
  },
  {
   "cell_type": "markdown",
   "metadata": {},
   "source": [
    "<hr>"
   ]
  },
  {
   "cell_type": "markdown",
   "metadata": {},
   "source": [
    "### Naive Bayes Classifier"
   ]
  },
  {
   "cell_type": "markdown",
   "metadata": {},
   "source": [
    "- easy to implement\n",
    "- Naive Bayes assumption is almost never true.\n",
    "- Still, NB classifier works well in practice even when the NB assumption is violated."
   ]
  },
  {
   "cell_type": "markdown",
   "metadata": {},
   "source": [
    "#### Solution"
   ]
  },
  {
   "cell_type": "markdown",
   "metadata": {},
   "source": [
    "- too many parameters : assume all features are independent given class Y\n",
    "\n",
    "P(X1, X2, ..., Xn|yj) = PI(i=1 to n) P(Xi|yj)\n",
    "\n",
    "- run out of space : use a probabilistic model to represent the data\n",
    "- run out of time : use a probabilistic model to represent the data"
   ]
  },
  {
   "cell_type": "markdown",
   "metadata": {},
   "source": [
    "<hr>"
   ]
  },
  {
   "cell_type": "markdown",
   "metadata": {},
   "source": [
    "### Comparison of Model Complexity"
   ]
  },
  {
   "cell_type": "markdown",
   "metadata": {},
   "source": [
    "Number of parameter for modelling P(X1, X2, ..., Xn|Y)\n",
    "- Bayes Classifier: $2(2^{n}-1)$\n",
    "- Naive Bayes Classifier: $2n$"
   ]
  },
  {
   "cell_type": "markdown",
   "metadata": {},
   "source": [
    "<hr>"
   ]
  },
  {
   "cell_type": "markdown",
   "metadata": {},
   "source": [
    "### NB Model Parameters"
   ]
  },
  {
   "cell_type": "markdown",
   "metadata": {},
   "source": [
    "2 sets of model parameters:\n",
    "- prior probabilities: $P(Y)$\n",
    "- The likelihoods: $P(Xi|Y)$"
   ]
  },
  {
   "cell_type": "markdown",
   "metadata": {},
   "source": [
    "Normalisation Constant: $P(X1, X2, ..., Xn)$ or $P(Xi|Y)$"
   ]
  },
  {
   "cell_type": "markdown",
   "metadata": {},
   "source": [
    "<hr>"
   ]
  },
  {
   "cell_type": "markdown",
   "metadata": {},
   "source": [
    "### Naive Bayes Classifier : Text Classification"
   ]
  },
  {
   "cell_type": "markdown",
   "metadata": {},
   "source": [
    "P(xk|yj) = nk/n"
   ]
  },
  {
   "cell_type": "markdown",
   "metadata": {},
   "source": [
    "- nk : number of times word k appears in documents of class yj\n",
    "- n : total number of words in documents of class yj\n",
    "- xk : word k\n",
    "- yj : class j\n",
    "- P(xk|yj) : probability of word k appearing in documents of class yj"
   ]
  },
  {
   "cell_type": "markdown",
   "metadata": {},
   "source": [
    "### Smoothing\n",
    "Smoothing is a technique to deal with unseen features in training examples."
   ]
  },
  {
   "cell_type": "markdown",
   "metadata": {},
   "source": [
    "Some words may only appear in some particular classes -> nk = 0"
   ]
  },
  {
   "cell_type": "markdown",
   "metadata": {},
   "source": [
    "This leads to P(Xi|yj) = 0"
   ]
  },
  {
   "cell_type": "markdown",
   "metadata": {},
   "source": [
    "We use smoothing to avoid this problem.\n",
    "\n",
    "- Calculate P(xk, yj) with **add one smoothing**"
   ]
  },
  {
   "cell_type": "markdown",
   "metadata": {},
   "source": [
    "P(xk, yj) = (nk + 1) / (nj + |V|)"
   ]
  },
  {
   "cell_type": "markdown",
   "metadata": {},
   "source": [
    "- xk: word\n",
    "- yj: class\n",
    "- nk: number of times word xk appears in class yj\n",
    "- nj: number of words in class yj\n",
    "- |V|: number of words in vocabulary"
   ]
  },
  {
   "cell_type": "markdown",
   "metadata": {},
   "source": [
    "<hr>"
   ]
  }
 ],
 "metadata": {
  "language_info": {
   "name": "python"
  },
  "orig_nbformat": 4
 },
 "nbformat": 4,
 "nbformat_minor": 2
}
