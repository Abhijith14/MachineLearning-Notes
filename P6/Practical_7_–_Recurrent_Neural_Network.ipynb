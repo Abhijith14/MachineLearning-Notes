{
  "nbformat": 4,
  "nbformat_minor": 0,
  "metadata": {
    "accelerator": "GPU",
    "colab": {
      "provenance": [],
      "collapsed_sections": []
    },
    "kernelspec": {
      "display_name": "Python 3",
      "language": "python",
      "name": "python3"
    },
    "language_info": {
      "codemirror_mode": {
        "name": "ipython",
        "version": 3
      },
      "file_extension": ".py",
      "mimetype": "text/x-python",
      "name": "python",
      "nbconvert_exporter": "python",
      "pygments_lexer": "ipython3",
      "version": "3.6.2"
    }
  },
  "cells": [
    {
      "cell_type": "markdown",
      "metadata": {
        "id": "MpebjXwkLk7q"
      },
      "source": [
        "# **1. Theoretical Exercises on Recurrent Neural Network (RNN)**\n",
        "\n",
        "As we learnt in previous lecture, we saw feedforward artificial neural networks, which do not contain any cycles and for which the nodes do not maintain a persistent state over several runs. This exercise considers artificial neural networks with nodes that maintain a persistent state that can be updated. This kind of neural network is called a recurrent\n",
        "neural networks (RNN). As an example, consider the following RNN with\n",
        "\n",
        "$y_t=W_{x_t}+V_{s_t}$\n",
        "\n",
        "$s_{t+1}=y_t$\n",
        "\n",
        "from some initial state $s_0$, where t denotes the $t$-th call of the RNN, i.e., $x_t$ is the $t$-th input.\n",
        "\n",
        "![image.png](data:image/png;base64,iVBORw0KGgoAAAANSUhEUgAAAJsAAAEGCAYAAABy7uelAAAfA0lEQVR4Ae2dCbTVU/THi7CWtcQyZc48JlOhQoYKlUohNIkmlSa8NEoIkaKUNFA0ECUqzUqe0izS8FJooPFp1mT/1+f8/7/3f93ufd17f7973zn37rPWW/fd8bfP3t/fPns6+xQQHcqBJHGgQJKuo5dRDoiCTUGQNA4o2JLGar2Qgk0xkDQOKNiSxmq9kIJNMZA0DijYksZqvZCCTTGQNA4o2JLGar2Qgk0xkDQOWAO2ffv2ydatW2X79u3y33//HcaAAwcOyLZt28x7hw4dOuw9feIOB6wB28aNG2Xw4MEyYMAA+euvvw7j4NKlS6VXr14yfvx42b9//2Hv6RN3OGAN2NBcnTt3lgoVKsiECRNyOAi4Bg4caF4fOnSoHDx4MOc9/cctDlgDNpZONFf58uWlS5cuZsmElWvXrpXmzZtLnTp15JdffjFL7M6dO2XXrl1ucVqptSsRv379emnRooVUr15d5s6da8QzadIkqVq1qnTv3l12794t2HZovqlTp6r4HOOANZoNvrFEDh8+XMqVKyd9+/aVHTt2GJDVqFFDpk+fLnv37pXFixdLgwYNpFmzZpKZmSkbNmxwjOXpS65VYEMMWVlZ8uSTT0qTJk2M9mrcuLE8//zzggPB8jl58mSpVq2a1KxZU4YNGybLly9PX+k5NnPrwIZD0K9fP0Gbob3q1q0rI0aMMFqPEMjq1auldevW0qFDB1mzZk2ObecY39OSXOvAhhQWLlwo9evXl2LFikmrVq1k2bJlOcJBu7388ssmFJLzov7jBAesBBueZrdu3aR48eLSu3dv2bNnTw4zPbD17Nkz5zX9xw0OWAk2sgQ4CLVq1ZLvvvvuME7ikXbt2lUyMjKMs7Bu3bojMg6HfUGfWMMBK8GGM9CpUycTb9uyZcthzMJuwzFo2bKlse0WLVokmsI6jEXWPrEGbICIMMbKlSsNmPBGx44dG1Zroc1mzJghs2fPlk2bNoX9jLUcT2PCrAEbMbQxY8aYoG7t2rWlR48eR+RI01hOKTF1a8CGZpszZ45xCIYMGWI0XEpwWCeRwwFrwJZDkf6TshxQsKWsaO2bmILNPpmkLEUKtpQVrX0TU7DZJ5OUpUjBlrKitW9iCjb7ZJKyFCnYUla09k1MwWafTFKWIgVbyorWvokp2OyTScpSpGBLWdHaNzEFm30ySVmKFGwpK1r7JmY92NiUvHnzZvnnn3/s455SFBMHrAfbihUrpH///maTcmh3o5hmqh/Odw5YDTa0Gp2NSpQoIe3btzcl4PnOMSUgbg5YDTa0GpuUjz/+eClTpozQ90O1W9yyzvcvWgs2T6tddtllUqBAASlcuLDRbthvOtzkgLVgQ6vVq1dPjjvuOAM2AFe6dGmj3dxktVJtJdjo94Gtdumll+YADbCddNJJ0q5dO+Odqujc44CVYPNstUKFCh0GttzaTW03BZtvDqDVBg0aJJdccskRQPNsN7Qbm5N1uMUB6zQbWo2WpuG0GmArWLCgsd0mTpyonqlbWLOrzSmdJ0eNGmXCHEWKFJEzzzxTTjzxRKPhTjjhBDn11FOF1/FQaXuqWQW30GaVZgNs8+fPN+3paQhIC4a7777bgI1ebS+88IJpJsN706ZN00aAbmHNLs0Wyjs0F80AWT4rVaok8+bNC/2IPneIA1ZptlC+KdhCOeL2cwWb2/JzinoFm1PicptYBZvb8nOKegWbU+Jym1gFm9vyc4p6BZtT4nKbWAWb2/JzinoFm1PicptYBZvb8nOKegWbU+Jym1gFm9vyc4p6BZtT4nKbWAWb2/JzinoFm1PicptYBZvb8nOKegWbU+Jym1gFm9vyc4p6BZtT4nKbWAWb2/JzinoFm1PicptYBZvb8nOKegWbU+Jym1gFm9vyc4p6BZtT4nKbWAWb2/JzinoFm1PicptYBZvb8nOKegWbU+Jym1gFm9vyc4p6BZtT4nKbWAWb2/JzinoFm1PicptYBZvb8nOKegWbU+Jym1gFm9vyc4p6BZtT4nKbWAWb2/JzinoFm1PicptYBZvb8nOKegWbU+Jym1irwbZ371758ssvpU2bNuaIoT///NNtbqc59VaDjTNFAdz27dtl9+7dwtlWro1Dhw7Jnj17zKFu27ZtM3NhTryebsNqsLkkDG4MbojffvtNvv32Wxk+fLi8++678vLLL5vTn5999lmjoZ977jnz/JVXXpHevXvLyJEjZcaMGeZ7u3btSuljLRVsPhENwJYuXWpA89JLL0mjRo2kVq1a8vjjj5vHunXrSsOGDaV58+bSokUL88jzevXqSe3atc1neOR7fB+QLl68WHbs2JFywFOwxQE2tFh2drbMmjVL3nzzTXnqqafkkUcekSeeeELat28v/fv3l6+//lrmzJkjy5cvl7Vr18rGjRvN2fY88pzXeZ/P8fkOHTrIk08+KY8++qj5HTTiN998Ixs2bHDSfAjHVivBhm2Gxti6dav8/fffhuF//fWXEdbOnTvlwIED4eaSlNdY6mbPni2vvvqq0V6PPfaYAcpnn30mP//8s7HJYrXH+Dx26a+//ipjxoyRrl27ChqxZs2a0rZtWwNI+ADIXR5WgA2Dec2aNTJz5kyzjPTq1Us6d+5sbJymTZtK48aN5emnn5aWLVsawaJNPvzwQ5k0aZIREIJKtCAABDSihVj20ECvvfaafPfdd+amiBVgkUDDPFhCFyxYIH379pUGDRrIww8/LJ06dZLMzExzE0b6ru2v5xvY0E6///67fPXVV0ZoLCGcmnzFFVeY47o5srto0aJy6aWXyuWXX26O6r7ooovk7LPPljPOOEMuvPBCKVWqlBE6S9CwYcOMZkEjBj24GX744QfByK9WrZpZKjHqOQ81kSDnumhLHAnPBhw8eLCsW7cu6Ckm5feSDrZ///3XMPCDDz4wts5NN91kAMS57+XKlTN2C3bPW2+9JXxm6NChBkiffPKJDBo0SN555x158cUXjaZ74IEH5Nprr5WzzjpLrrzySqMB3njjDfn+++8DOz8eQBHrq1OnjhH4xx9/bJb1RIIsVPIs3Wg1ji0H7Gj9JUuW5Ks5EUpjNM+TBjY0WVZWlgnOYotcfPHFRnNVrFjRhAKGDBliQPLHH3+YuFQkYfL6/v37jcHNUvP5558b+4ll7aqrrpLzzjtPypcvb7Qlx3wT44p3bNmyxYD9oYceEpZzHAK0TX4NNBo3IPRgVkAPN68rIylgw3ObMGGCce9ZElkaMaz79OkjP/74o/HsIoErGkYCKIxrtB+guO666wyQ0QLYdnh/sf4+QEOTVq9e3WgUljMbgsrYc3iwaFq836lTp+brDRCNfLzPJBRsCBi7DJvj9ttvlwsuuEAqV64s7733nolNBX1XAgZSWp9++qlZjlmaixUrZjTnwoULjUb0Jp7XIw4HyzdAwzBfuXJlzGDN6/f9vgffsBnr169vvNbp06fLvn37/P5swr+fMLDhnf3yyy9G0Bj9CB2bg7BBIoz43JxiyV6xYoWx7wA5jgYe5LRp0466rLJMYqPhAUKvbUDz5gm48N7RbsT5iNkF5RF71wj6MSFgQ8NgTzVp0sQIGoEPHDjQeFGxLmd+JoxxP378eBNwRatWqlTJPM8L7ICUEEuzZs3MzZJMemOdK4BjGcUkadWqlbnBYv2NZH4+cLBxd7FkER/yBEx4A1sjPwbOxNy5c02sjnBJhQoVZNy4cRE1HA4KTge2pO2aAn5irxJQfvDBBwVPfPPmzfnB5qiuGSjY0AIY6uQBWbqqVKli7rygbbOoZpbrQ4AGA/+ZZ54x8Tk0HEsqQAw30Mw2OAPhaAv3GpkWAt0AjgxEpHmF+24yXwsUbOvXr5cuXbqYsMZ9991nIvz5DTSPmdwIAI5sBBqXZPmiRYusMvw9WuN5XLZsmTFbMF3438YRGNgIPBLdxhEgsj9q1KiEOwKxMhQNx/JI0hzNS/DY1Wh86Nxxir744gvjQZPm8hNfDP3toJ4HAja0BgHGe++916SWiPJTKGjjwKjGZrvtttvMjUEwOT8DtUHyiGIFEveERH766acgfzqQ3woEbN4kid4TVKWA0OaBl9qzZ0+55JJLjCbAc06FgeYm4EuGgYIB22JvvsGGIY36vvHGG03glkoMF7w4QhwUMGK/4cURyE2FgVlAGITQzerVq62akm+wkQrC+0SrUYdFasqFwU0yYsQIk8hn+SfRnQoD2w3bmfwz5oJNcUJfYGMiY8eOFSo3qNjAbnNpEFPDezv//PNNlUlewV6X5oUTRMake/fuVtmjvsCGFuvYsaOcc8455tEVreYBB+2Gg0A6jaoR9hKkwti0aZOpvWPFYeWxZfgC2/z5803g9oYbbjDBRFsmFQsdxN4wqAnZkMB3wd482vxYSokIUBlC0actI26wsYRS0oNWQGVTq+biYE8Du5qoACYgzfNUGDhtVPeSegsdaL7JkyfLlClThP/zGmQnqCqhgMJv7C5usBHERUhUyeIY+CUkrwkn8j1uGhyFq6++2umbJpRHVCuj2QjwhmprbFX2r1LuRfQgrwHQyLagKZG5nxE32KhTY98AxZCUStvk9cTKEMpzSK/dcccdJmca6/dt/Dz2J+VH3bp1O6J8HMVALpUiVjZLRwIRDhNhIfaGoCFDQRvrvOMGGx7P/fffL2XLljVqNtYL2/R5Ci6pUuHGwTRw+cbx+Mqc2AxNSi5choRCBGRHgWikbAOARauRkQjCTIobbNSJlSxZ0hQZUiSZqIHHCLOIhicKBJQ/IZRzzz1X2EbINV0f7DMlsMtyGS5gzWZpgr+YDx999NERc0aLsWPtrrvuMktoOMDGyqO4wQYhaALuHqo9gh5Ui5BG6tevn7EJWQ4owOS1ICaem15KcohJYX9ih9pSqZKbxlj/p66NItDWrVubfa2h3wdMlL7jhfM5Uo65B99//vnnhR1sQcVP4wIbGmbAgAEmGMpkEhFfI6xCnAg1zx1KzpVd4uwuCjrJz3zYF4FHmpGREdGGyS0M2//Hy6S3CO3GIvGLsA/l79iqVPzmHmy+BmjwI6iCzLjAxl2BcFh2qDIIOlyA8NFoGKZ4UzgjJPfZ5AEIE+H5cvOQcmNpIVHv+kBTcYOinSLJBweAXf2sUDgMHl8xWfA+WULpsuTXMfB4GTfY2IYH2NgUEmky3kVifWRytJuiLg5viKQ5dlUibSmWaNJWLCmJ0NSx8sDv52kVgdPD7rC8zALibewRISZHlTVj1apVxikgdEIDnKBGXGBD87z//vsGbJEMUL8EEicihXTrrbcaRtBigYLMRNiH0Mp8SLvRYiG/9kv45Vnu77NjntAHNysZhUiDLkmUy1O1QwaFG5qAMLnut99+O1D7OC6wQTgeDL03sKeOFoWONNG8XkfFs1WNO5PKWrQcBY/sQWUDcZADBlPfhoNArtdbToK8RrJ/C96hmbBx81oGmTsbuYsXL248ckwWeE7AF7MlyBE32EA/BDIh1G4iBkxiSSPew/VwFqpWrRp4vg9weSkrNIGtG0Zi4TGrADEyNsAcbbAXA96yQQlwcnOj4YNWInGDjVaed955pwnsEuANcrBMY3Ngq3n2BlFucpdsxcPOCHJ4nhtb/XAU8tIEQV43Ub/FzUK8EO89GtlgNpBJoFSMPikE6wltIYcgR9xgw5ikQI+KD3aQBzlQ7eQrieHRdA976vXXXzd7HGgHyi71IAdBaUIA2C3scXV9ELAlJIUtFo2NC6joxUJG4eSTTzYg9ZyFIHkRN9ioBkDVEi7Ac8zLCI2VYDQLpTHYT3hUlG/jLeEpkmYJurYeRt9yyy1mGWGDteuDXC+VOLQd81aGo82JcnLkiDYk3JEIuzVusAEuwh+ECwgecjcFPYh3sQcS4LEcwJAgQQ29LDkwmXkQYwvaTgmaJ0f7PfgTT1k4qwlzJ56ZqNBP3GBj0tRDlSlTxsmScE9oVLJ6PUkIIAcNZu86yXpk2SRrQEA3pTa8UFnADnM2/KLlXPPisFUmTpwopUuXNtkKUjQuD8/2wpskAxPtEpqsOfvSbICL/Yl0kSQEErThnmgmUA1B4SeZEILTiTAFEj2H3L/PMkjwGxvXRtvTF9iYKDEaGppQHk6g1yXtRpYCV//6668PpDgwt+CT/T9OFVv32E+BDRqpIDLZdOW+nm+wEeknpkOMiiCiKzuU8KaJ2+FNkwWhVNobGMikcRLhkXnXCPoRwx5HDe+dag4bh2+wMSkqPbETWE7Jp9leNYETQJsC8q4lSpQwcUK8MW8QYyJ9xU1EbzeCnkEHOL1rBfGIOYDNzApDfNI2W82bYyBgY3JeIR61URyDY/NyShDXa71AHjDUVsP2xAYlMU+OkDIcco1oQ9tAR8yR5ZOgNCm30CJIT9A2PAYCNiZCCIHaNnpnEFC0tfcZoQGWT5b9GjVqmPq4UEGgySgaLFSokBxzzDFy+umnmxQOVRFBl1OFXjuW52hjYpDcOIRvqPSw7WbIPZ/AwMYkOXeAO4xQCNmFIDZJ5CbW7/9oJmJplEKTMSC5H27JwdimePC0006TAgUKyAknnGBiibSasMXwBmgUkgIybm5y1bbHCAMDG0BApZP6ocKTdlScREJC3YZBaTTeMjYamzyoNAZ8kQZVE4DylFNOMeXi1IZhy9mgOTBRyKhw8AbNm9l8FPS+jEh88fN6oGCDEJYZcmvUn3EOAfnN/G7vTvyJStybb77ZhGiwwY7WcZL8Iols4m/ErjC+se8AXH5WhaBZqXphzy7eP/aaLdr2aEAMHGxckNAB+y+JzOOh4pKj8oNOoB9tcoCClA0JaWJpnG9FKQ0FgkcbbPLgkFlsURwITnvBxmMTDs5CsgWMRuUG8fKehDjYpOJSeCYhYEOQhD9Yigia4jQQGqGQL+gq20igIf5HzzWS62zoAGw9evQ4LJ4W6bvhXucGgn6WUypQqHsDyLlDJuG+F8RrOCyk0tq1a2c0LI/cvDZ7/OHmnTCwcTFP5WPA4v1hlHNCMLErwJCIgZGMY0IajRb0AJ16elpjsXHXz8AuYnllQzOVrZQ8AUA83EQsrYAMXqGZsc0Ix2AOEIC2wXaMlZcJBRvEcPexHBFuoBLUOx+BgCnea1ChBJZobEPifV4PEmxGvDWWm6Cug5BZWqlkpQiBpZUqC4Kp7ETyu6yhKQEvdhkbs7lR2fhDDpcwR7KX71gBldfnEw42Lo6A0CqEGjhniTwqoGMTLEyk0pcScLRdLHcsAEPwFFQCXu58joFEm7FXgcoHtFwiljqujbNAzT6AJicJyAEITVhY5pgzn4s0J15HE+MVE2jGqySviWOC2cF84A83C+ZHpN/JS8A2vZcUsHkT9pY4dvMgGDbMsAudcmyWCTxXhEdpNkly0mBoK/J+gAaBsIyRoWBZpGQcQ5msBTlOr/s3thnCTtRS7c2HR8AEbQR8WV6pdKVcHqDgTHAQLzcCDgZOExoQrQgP2CmGWUEJN7YgGsyrSKYUnvAGtq/rIPP4lVSweRcFdBjXOBAICC1E7KtIkSJG4wE+HAvsIpiP4FhOCBizGYOcJu2e+DzeLjYZ2gB7hiU7GSDz5pL7EWBQ2sNZUuwwB0R0AIL+SH9E/wElXjI3EH01SDklQhvnpjU//s8XsHkT5Y7Fy0NAaAa20REm4Q6ngzehE+w8PEk21uBg3HPPPcZOwl4iF0ig1kYBecsjWg/blAg/hZoslWhmln60NGXvLLfhMhken1LlMV/BFspEliQCsN6+A4xkllQ8PlJFCIkQADlAYk6x2nih19PnyeWAVWBL7tT1asnmgIIt2RxP4+sp2NJY+MmeuoIt2RxP4+tZDzY8VrIQqRgKSDfcWQ82qi8I8AbZlC7dhGzLfK0GG1qN8AcBXVJPLhQI2iJYG+mwGmxoNQoXKc8mV0h8TYe7HLAWbJ5Wo9tkwYIFTXKd/QOq3RRsgXMArUbelH5hbDo59thjVbsFzuXk/qCVmi23VgNo3h9trdiokg55xOTCIDlXsxJs1G6h1QoXLpwDNADHHk4qP2xtL5Ackbl7FSvBhgdK3zdPo+V+pDAS7aa2m3ugsw5skbSaBzhsN7SbeqYKNl8cwFbjsNVIWs0DnKfd/Nb7+yJWvxwzB6zSbKSkWEKpXKW8miJK9hQAMsq+2S3F61S/cqCu7d2SYpZGin/BKrCxHY7NH5SM80eJN8ACbLR0YGOM9563mSTF5ZNS07MKbKGcRXOxyRiwodUor9bhLgcUbO7KzjnKFWzOicxdghVs7srOOcoVbM6JzF2CFWzuys45yhVszonMXYIVbO7KzjnKFWzOicxdghVs7srOOcoVbM6JzF2CFWzuys45yhVszonMXYIVbO7KzjnKUxZsXmdvTt/jxOdwgz5wNCFcsGBB2DbvXkt4GidroWY4Dsb2WsqCjUaBHONIu1TaqYYOGg/S05Yjg9gIHe40O+rpaM5My9Kguo2H0pFOz1MWbJSY0wIVMNFEObTPLmcJcI7BWWedZXr3or1yD76P1qtYsaLp1auNbXJzJ77/UxZssAMA0ZuXM57oOp57TJ8+XRo2bGgaQleoUMGcn5D74AyWTZoqV6tWzRwflPu7+n98HEhpsFE6zn4GGkFzWqA3ABUnwNDW/vXXXzdVwByCho3mDdrhc2YDJ99x1oIO/xxIabDRsZtzQ6+55hrzyHMGx0FyEC+t4+nYzZkMtMDHYfAGG2+qVKlizrvSHfgeV/w9pjTYYA0dxtkayDkJ3vHcGP4AjPPs0WacosKGGo5TZKD52AiNvUa3ch3BcCDlwbZq1Spz4AWHdaDFGBz3w2EXAAlHYPjw4XL77bcb7xUvlY3SaD36wnFkkI5gOJDyYMPQR3NxaAfH+fAcO42QhrdscvIdp8w0bdrUHFLGc3bdY8dpyCMYoPErKQ82JsnJziVLljQnwqCpOEWGcIgHJJZXtgxWrlzZeLCcL8XWQTZCo/l0BMOBtAAbxxURwmDpJPbWqFEjc06UByQcB2y0smXLmpgah5eh2bxlNxhW66+kBdjYZc9Z72QTcAxYLkODuHifxNsAIi0eCPhytJGO4DiQFmAj+k9crVSpUubYSY69Dk1P4UhwDCPHUuKZksrSrEFwQOOX0gJsTJRT8Tgqkg5Iffr0OSLxTjqLjAHHSgI2uinpCJYDaQM2jsIGZBkZGTJ79uywXJwxY4ZZPjmMltypjmA5kDZgY0nEBvOOjgzHRs5fpxwJ79TLNoT7nL4WHwfSBmzxsUe/FSQHFGxBclN/K08OKNjyZI++GSQHFGxBclN/K08OKNjyZI++GSQHFGxBclN/K08OKNjyZI++GSQHFGxBclN/K08OKNjyZI++GSQHFGxBclN/K08OKNjyZI++GSQHrAYblbQkxdmKRz2a7gcIUvTJ/y2rwUYyfPny5abch2rb7du3J59DesXAOGA12AKbpf6QFRxQsFkhhvQgQsGWHnK2YpYKNivEkB5EKNjSQ85WzFLBZoUY0oMIBVt6yNmKWSrYrBBDehChYEsPOVsxSwWbFWJIDyIUbOkhZytmqWCzQgzpQYSCLT3kbMUsrQEbFR2UEK1Zs+aIpi+0Hf35559N6wSvp5oV3FMiYuKANWADUIMGDZKOHTsKbUY9UNFbjddpOTpv3ryc12OapX7YCg5YA7b9+/cLB2HUqVPHNE+m3y2NXmhRShdI+uBu2LDBCqYpEfFxwBqwQT6Hm3Gw2WOPPSadO3c2rUjpAtm+fXvhEAwGbePpRKTAi0/g+fktq8AGIygFHzZsmNSoUUNuu+0202x5yZIlOcsnB2Cg7caMGZOffNNrx8EB68DGHJYuXWrOmypatKg5m8A75IxllYZ9jzzyiDmjYPTo0ZKVlRXHtPUr+cEB68CWnZ1tOnbT3xZQNWvWTDIzM01/W7Qe7Uc5s4D30IDsUdDhBgesAhsajNNXsNP69esns2bNkjZt2pjWoxwBRPdIvFPsue7du5sDNLRDpBtAg0prwMYxPlOmTDHLI2Ci3SjgmjlzptSvX9/0wl2xYoU5a4pzCtjip8MtDtgBtv/+k/W//io9MjLkhaeflsWTp4hs2SqSnS1716yR0YM/lJaP15IvBgyQjSuzpGvbtvJ29+7y3+bNIpu3iPzfaXtusT79qLUDbPsPyKbhI2V2nSdk2du9ZH/fD0Q+Hy0y7huRd/tK9vBPZV7zlrKk04uydcRn8krFB6RJzUdlXJeXZNngj+QQoNNhPQfsANuBgyJz5oqMHCUyK1Nk9FiRqdP/9/8Rn4l8nykydpzI5KlycFamjHulm3Ru3Ubez2gri0Z+Koe2ZVvPaCXQIptNDh0SOXiQqO3hf95rB///9e3Z2bIqK8ucVbBn924RPczMCSzbodmcYJUS6ZcDCja/HNTvR80BBVvUrNIP+uWAgs0vB/X7UXNAwRY1q/SDfjmgYPPLQf1+1BxQsEXNKv2gXw4o2PxyUL8fNQcUbFGzSj/olwMKNr8c1O9HzQEFW9Ss0g/65YCCzS8H9ftRc0DBFjWr9IN+OaBg88tB/X7UHFCwRc0q/aBfDijY/HJQvx81BxRsUbNKP+iXAwo2vxzU70fNAQVb1KzSD/rlgILNLwf1+1FzQMEWNav0g3458D+Mc7Gnr3zYfgAAAABJRU5ErkJggg==)\n",
        "\n",
        "Figure 1"
      ]
    },
    {
      "cell_type": "markdown",
      "metadata": {
        "id": "1PDOmnv4NrA6"
      },
      "source": [
        "Questions:\n",
        "\n",
        "1. What is the recurrent state in the RNN from Figure 1? Name one example that can be more naturally modelled with RNNs than with feedforward neural networks?\n",
        "\n",
        "2. As the state of an RNN changes over different runs of the RNN, the loss functions that we use for feedforward neural networks do not yield consistent results. For given dataset X, please propose a loss function (based on the mean square loss function) for RNNs and justify why you chose this loss function. \n",
        "\n",
        "3. For a dataset $X≔(x_t,y_t)_1^k$ (for some $k\\in N$), show how information is propagated by drawing a feedforward neural network that corresponds to the RNN from Figure 1 for $k=3$. Recall that a feedforward neural network does not contain nodes with a persistent state. (Hint: unfold the RNN.)\n"
      ]
    },
    {
      "cell_type": "markdown",
      "metadata": {
        "id": "ST340aUSiAHV"
      },
      "source": [
        "# **2. Using Recurrent Neural Network (RNN) to Solve a Problem**\n",
        "\n",
        "The task of this exercise is to implement RNN algorithm on a stack price\n",
        "prediction.\n",
        "\n",
        "To comply with this goal the **Google Stock Price** dataset is used, a very common dataset for data scientists for tests and studies in **ML** (Machine Learning).\n"
      ]
    },
    {
      "cell_type": "markdown",
      "metadata": {
        "id": "a_9-wPObneIB"
      },
      "source": [
        "**Load Data from your Google Drive**"
      ]
    },
    {
      "cell_type": "code",
      "metadata": {
        "id": "FVTeqWNH3HGS",
        "colab": {
          "base_uri": "https://localhost:8080/"
        },
        "outputId": "8dbc0078-cf71-4fed-cf44-a38966292a86"
      },
      "source": [
        "#\"\"\"\n",
        "from google.colab import drive\n",
        "drive.mount('/content/drive')\n",
        "#\"\"\""
      ],
      "execution_count": null,
      "outputs": [
        {
          "output_type": "stream",
          "name": "stdout",
          "text": [
            "Drive already mounted at /content/drive; to attempt to forcibly remount, call drive.mount(\"/content/drive\", force_remount=True).\n"
          ]
        }
      ]
    },
    {
      "cell_type": "markdown",
      "metadata": {
        "id": "XtcFbfEuepBY"
      },
      "source": [
        "Enter the folder including csv files."
      ]
    },
    {
      "cell_type": "code",
      "metadata": {
        "id": "8iURTUADnA73"
      },
      "source": [
        "cd drive/MyDrive/Teaching/CS5062/Practical/Practical_7"
      ],
      "execution_count": null,
      "outputs": []
    },
    {
      "cell_type": "code",
      "metadata": {
        "id": "kbcMI8SRnU6L"
      },
      "source": [
        "ls"
      ],
      "execution_count": null,
      "outputs": []
    },
    {
      "cell_type": "markdown",
      "metadata": {
        "id": "vxFYaIyDnaMb"
      },
      "source": [
        "#**Part 1 - Data Preprocessing**\n",
        "\n",
        "First, we import required libraries, **numpy**, **matplotlib.pyplot**, and **pandas**."
      ]
    },
    {
      "cell_type": "code",
      "metadata": {
        "id": "h9zwszmUzEgT"
      },
      "source": [
        "import numpy as np \n",
        "import matplotlib.pyplot as plt\n",
        "import pandas as pd"
      ],
      "execution_count": null,
      "outputs": []
    },
    {
      "cell_type": "markdown",
      "metadata": {
        "id": "HSoCmGD1n9CT"
      },
      "source": [
        "Import the training dataset. Hint: use **read_csv** from Pandas library. "
      ]
    },
    {
      "cell_type": "code",
      "metadata": {
        "id": "BgxRv0qN3meR"
      },
      "source": [
        "# Put your codes here"
      ],
      "execution_count": null,
      "outputs": []
    },
    {
      "cell_type": "markdown",
      "metadata": {
        "id": "t9-vxr5ZqTo6"
      },
      "source": [
        "Show the training dataset by using **head** method."
      ]
    },
    {
      "cell_type": "code",
      "metadata": {
        "id": "Pw-T9hrSpSru",
        "colab": {
          "base_uri": "https://localhost:8080/",
          "height": 204
        },
        "outputId": "0aee2eaa-85ab-4eff-d336-72924f8c92d8"
      },
      "source": [
        "# Put your codes here"
      ],
      "execution_count": null,
      "outputs": [
        {
          "output_type": "execute_result",
          "data": {
            "text/html": [
              "<div>\n",
              "<style scoped>\n",
              "    .dataframe tbody tr th:only-of-type {\n",
              "        vertical-align: middle;\n",
              "    }\n",
              "\n",
              "    .dataframe tbody tr th {\n",
              "        vertical-align: top;\n",
              "    }\n",
              "\n",
              "    .dataframe thead th {\n",
              "        text-align: right;\n",
              "    }\n",
              "</style>\n",
              "<table border=\"1\" class=\"dataframe\">\n",
              "  <thead>\n",
              "    <tr style=\"text-align: right;\">\n",
              "      <th></th>\n",
              "      <th>Date</th>\n",
              "      <th>Open</th>\n",
              "      <th>High</th>\n",
              "      <th>Low</th>\n",
              "      <th>Close</th>\n",
              "      <th>Volume</th>\n",
              "    </tr>\n",
              "  </thead>\n",
              "  <tbody>\n",
              "    <tr>\n",
              "      <th>0</th>\n",
              "      <td>1/3/2012</td>\n",
              "      <td>325.25</td>\n",
              "      <td>332.83</td>\n",
              "      <td>324.97</td>\n",
              "      <td>663.59</td>\n",
              "      <td>7,380,500</td>\n",
              "    </tr>\n",
              "    <tr>\n",
              "      <th>1</th>\n",
              "      <td>1/4/2012</td>\n",
              "      <td>331.27</td>\n",
              "      <td>333.87</td>\n",
              "      <td>329.08</td>\n",
              "      <td>666.45</td>\n",
              "      <td>5,749,400</td>\n",
              "    </tr>\n",
              "    <tr>\n",
              "      <th>2</th>\n",
              "      <td>1/5/2012</td>\n",
              "      <td>329.83</td>\n",
              "      <td>330.75</td>\n",
              "      <td>326.89</td>\n",
              "      <td>657.21</td>\n",
              "      <td>6,590,300</td>\n",
              "    </tr>\n",
              "    <tr>\n",
              "      <th>3</th>\n",
              "      <td>1/6/2012</td>\n",
              "      <td>328.34</td>\n",
              "      <td>328.77</td>\n",
              "      <td>323.68</td>\n",
              "      <td>648.24</td>\n",
              "      <td>5,405,900</td>\n",
              "    </tr>\n",
              "    <tr>\n",
              "      <th>4</th>\n",
              "      <td>1/9/2012</td>\n",
              "      <td>322.04</td>\n",
              "      <td>322.29</td>\n",
              "      <td>309.46</td>\n",
              "      <td>620.76</td>\n",
              "      <td>11,688,800</td>\n",
              "    </tr>\n",
              "  </tbody>\n",
              "</table>\n",
              "</div>"
            ],
            "text/plain": [
              "       Date    Open    High     Low   Close      Volume\n",
              "0  1/3/2012  325.25  332.83  324.97  663.59   7,380,500\n",
              "1  1/4/2012  331.27  333.87  329.08  666.45   5,749,400\n",
              "2  1/5/2012  329.83  330.75  326.89  657.21   6,590,300\n",
              "3  1/6/2012  328.34  328.77  323.68  648.24   5,405,900\n",
              "4  1/9/2012  322.04  322.29  309.46  620.76  11,688,800"
            ]
          },
          "metadata": {},
          "execution_count": 50
        }
      ]
    },
    {
      "cell_type": "markdown",
      "metadata": {
        "id": "acYedN1KpLwI"
      },
      "source": [
        "Get the column of \"open\" price and print it and its shape."
      ]
    },
    {
      "cell_type": "code",
      "metadata": {
        "id": "ooi6ijP7zEgh"
      },
      "source": [
        "# Put your codes here"
      ],
      "execution_count": null,
      "outputs": []
    },
    {
      "cell_type": "markdown",
      "metadata": {
        "id": "LZ-UMyu0qiQR"
      },
      "source": [
        "Please features with using **MinMaxScaler** method"
      ]
    },
    {
      "cell_type": "code",
      "metadata": {
        "id": "LeWUb0q2zEgm"
      },
      "source": [
        "from sklearn.preprocessing import MinMaxScaler\n",
        "# Put your codes here"
      ],
      "execution_count": null,
      "outputs": []
    },
    {
      "cell_type": "markdown",
      "metadata": {
        "id": "tF9p6uqqw5Ct"
      },
      "source": [
        "Please create a data structure with 60 timesteps and 1 output. Giving features to X_train and labels to y_train"
      ]
    },
    {
      "cell_type": "code",
      "metadata": {
        "id": "ZhXGvC_NzEgr"
      },
      "source": [
        "X_train = []\n",
        "y_train = []\n",
        "# Put your codes here"
      ],
      "execution_count": null,
      "outputs": []
    },
    {
      "cell_type": "markdown",
      "metadata": {
        "id": "qPrM0r-5U4vA"
      },
      "source": [
        "Reshape X_train into 3D with (numberOfExamples, timeSteps, numberOfFeatures)"
      ]
    },
    {
      "cell_type": "code",
      "metadata": {
        "id": "Ck45eXMfzEgw"
      },
      "source": [
        "# Put your codes here"
      ],
      "execution_count": null,
      "outputs": []
    },
    {
      "cell_type": "markdown",
      "metadata": {
        "id": "8HqpOldzxnh5"
      },
      "source": [
        "#**Part 2 - Building the RNN stacked lstm with dropout regularization to prevent overfitting**"
      ]
    },
    {
      "cell_type": "markdown",
      "metadata": {
        "id": "dbz7Z0muygWd"
      },
      "source": [
        "Here, we import keras library and packages from tensorflow to implement RNN in a simple way."
      ]
    },
    {
      "cell_type": "code",
      "metadata": {
        "id": "eiID788pzEgz"
      },
      "source": [
        "from tensorflow import keras\n",
        "from keras.models import Sequential\n",
        "from keras.layers import Dense, LSTM, Dropout"
      ],
      "execution_count": null,
      "outputs": []
    },
    {
      "cell_type": "markdown",
      "metadata": {
        "id": "POYHfnDay4EM"
      },
      "source": [
        "Initialising the RNN"
      ]
    },
    {
      "cell_type": "code",
      "metadata": {
        "id": "NgJPegIEy781"
      },
      "source": [
        "# Put your codes here"
      ],
      "execution_count": null,
      "outputs": []
    },
    {
      "cell_type": "markdown",
      "metadata": {
        "id": "Es4umo1pzB8F"
      },
      "source": [
        "Adding the first the LSTM layers with 50 neuro units, dropout regularisation with 0.2, and return_sequences as True."
      ]
    },
    {
      "cell_type": "code",
      "metadata": {
        "id": "A6Fm3yQ6zL9G"
      },
      "source": [
        "# Put your codes here"
      ],
      "execution_count": null,
      "outputs": []
    },
    {
      "cell_type": "markdown",
      "metadata": {
        "id": "Peik5SLMzPtm"
      },
      "source": [
        "Adding the second the LSTM layers with 50 neuro units, dropout regularisation with 0.2, and return_sequences as True."
      ]
    },
    {
      "cell_type": "code",
      "metadata": {
        "id": "90e74GuGzUjW"
      },
      "source": [
        "# Put your codes here"
      ],
      "execution_count": null,
      "outputs": []
    },
    {
      "cell_type": "markdown",
      "metadata": {
        "id": "lEIuZT4pzde0"
      },
      "source": [
        "Adding the third the LSTM layers with 50 neuro units, dropout regularisation with 0.2, and return_sequences as default."
      ]
    },
    {
      "cell_type": "code",
      "metadata": {
        "id": "b-iAyAXJ0n6S"
      },
      "source": [
        "# Put your codes here"
      ],
      "execution_count": null,
      "outputs": []
    },
    {
      "cell_type": "markdown",
      "metadata": {
        "id": "ER7HkdGT0xEU"
      },
      "source": [
        " Adding regressor layer as output layer."
      ]
    },
    {
      "cell_type": "code",
      "metadata": {
        "id": "xczZCquF1Xtk"
      },
      "source": [
        "# Put your codes here"
      ],
      "execution_count": null,
      "outputs": []
    },
    {
      "cell_type": "markdown",
      "metadata": {
        "id": "1xSZ90rh22WD"
      },
      "source": [
        "\n",
        "Compile the RNN with optimizer as Adam and loss as mean_squared_error."
      ]
    },
    {
      "cell_type": "code",
      "metadata": {
        "id": "AKRR3cdd3ezp"
      },
      "source": [
        "# Put your codes here"
      ],
      "execution_count": null,
      "outputs": []
    },
    {
      "cell_type": "markdown",
      "metadata": {
        "id": "zBT-1v944HFR"
      },
      "source": [
        "# **Part 3 - Training RNN with training data, making the predictions, and visualising the results**"
      ]
    },
    {
      "cell_type": "markdown",
      "metadata": {
        "id": "aStJ-nu54eVJ"
      },
      "source": [
        "Train the RNN on the training set. Hint: using **fit** method."
      ]
    },
    {
      "cell_type": "code",
      "metadata": {
        "id": "0MzuN7HhzEg5"
      },
      "source": [
        "import tensorflow as tf \n",
        "tf.random.set_seed(1234)\n",
        "# Put your codes here"
      ],
      "execution_count": null,
      "outputs": []
    },
    {
      "cell_type": "markdown",
      "metadata": {
        "id": "YgcVvX3M4zvR"
      },
      "source": [
        "Loading the test dataset"
      ]
    },
    {
      "cell_type": "code",
      "metadata": {
        "id": "ZSwMSOP0zEg8"
      },
      "source": [
        "dataset_train = pd.read_csv('datasets_20469_26460_Google_Stock_Price_Train.csv')\n",
        "dataset_test = pd.read_csv('datasets_20469_26460_Google_Stock_Price_Test.csv')\n",
        "real_stock_price = dataset_test.iloc[:,1:2].values"
      ],
      "execution_count": null,
      "outputs": []
    },
    {
      "cell_type": "markdown",
      "metadata": {
        "id": "jbV_VbJQ87dc"
      },
      "source": [
        "Concatenate the \"Open\" columns of dataset_train and datadataset_test. The concatenated data are defined as \"dataset_total\". Then, print the shape after conducting concat. "
      ]
    },
    {
      "cell_type": "code",
      "metadata": {
        "colab": {
          "base_uri": "https://localhost:8080/"
        },
        "id": "QjiTxxm72ZxI",
        "outputId": "7c31b12e-6caf-45af-f0dc-b6f33535264b"
      },
      "source": [
        "dataset_total = pd.concat((dataset_train['Open'], dataset_test['Open']), axis=0)\n",
        "print(dataset_total.shape)"
      ],
      "execution_count": null,
      "outputs": [
        {
          "output_type": "stream",
          "name": "stdout",
          "text": [
            "(1278,)\n"
          ]
        }
      ]
    },
    {
      "cell_type": "markdown",
      "metadata": {
        "id": "yyuqftXA6nqR"
      },
      "source": [
        "Get the inputs of testing data."
      ]
    },
    {
      "cell_type": "code",
      "metadata": {
        "id": "nKidOOqf8gT_"
      },
      "source": [
        "inputs = dataset_total[len(dataset_total) - len(dataset_test) - 60:].values\n",
        "inputs = inputs.reshape(-1,1)\n",
        "inputs = sc.fit_transform(inputs)"
      ],
      "execution_count": null,
      "outputs": []
    },
    {
      "cell_type": "markdown",
      "metadata": {
        "id": "fqsCBFvR9fHI"
      },
      "source": [
        "Put all inputs of data in \"X_test\""
      ]
    },
    {
      "cell_type": "code",
      "metadata": {
        "id": "EdJpfLni9fT0"
      },
      "source": [
        "X_test = []\n",
        "for i in range(60,inputs.shape[0]):\n",
        "    X_test.append(inputs[i-60:i,0])\n",
        "X_test=np.array(X_test)"
      ],
      "execution_count": null,
      "outputs": []
    },
    {
      "cell_type": "markdown",
      "metadata": {
        "id": "W9d50YwAdZUo"
      },
      "source": [
        "Reshape X_test into 3D with (numberOfExamples, timeSteps, numberOfFeatures)"
      ]
    },
    {
      "cell_type": "code",
      "metadata": {
        "id": "tabxrM0CdcOr"
      },
      "source": [
        "# Put your codes here"
      ],
      "execution_count": null,
      "outputs": []
    },
    {
      "cell_type": "markdown",
      "metadata": {
        "id": "r9zAlrMk9Tdr"
      },
      "source": [
        "Getting the predicted stock price and print the predicted stock price. Hint: using **predict** method."
      ]
    },
    {
      "cell_type": "code",
      "metadata": {
        "id": "qiAfCmdRzEg_"
      },
      "source": [
        "# Put your codes here"
      ],
      "execution_count": null,
      "outputs": []
    },
    {
      "cell_type": "markdown",
      "metadata": {
        "id": "n4IwLTTfAvkg"
      },
      "source": [
        "During the data-processing, we did the normalisation and make range within 0 and 1. Now, we need to inverse the predictions to orginal scale.\n",
        "\n",
        "Hint: using **inverse_transform** method from **MinMaxScaler**."
      ]
    },
    {
      "cell_type": "code",
      "metadata": {
        "id": "ZgDgXnrR-fWr"
      },
      "source": [
        "# Put your codes here"
      ],
      "execution_count": null,
      "outputs": []
    },
    {
      "cell_type": "markdown",
      "metadata": {
        "id": "DgDCk2gIEBJR"
      },
      "source": [
        "For the visualization, plot predicted stock price by red line and real stock price by blue to see the gap between them.\n",
        "\n",
        "Hint: using **matplotlib.pyplot (plt)*** method."
      ]
    },
    {
      "cell_type": "code",
      "metadata": {
        "id": "VhsZQO2kzEhB"
      },
      "source": [
        "# Put your codes here"
      ],
      "execution_count": null,
      "outputs": []
    }
  ]
}