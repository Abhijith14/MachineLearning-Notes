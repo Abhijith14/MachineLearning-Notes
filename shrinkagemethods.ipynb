{
 "cells": [
  {
   "cell_type": "markdown",
   "metadata": {},
   "source": [
    "# Shrinkage Methods"
   ]
  },
  {
   "cell_type": "markdown",
   "metadata": {},
   "source": [
    "## Subset Selection\n",
    "- Pros: Interpretable, low prediction error\n",
    "- Cons: High variance, Discrete"
   ]
  },
  {
   "cell_type": "markdown",
   "metadata": {},
   "source": [
    "<hr>"
   ]
  },
  {
   "cell_type": "markdown",
   "metadata": {},
   "source": [
    "- Ridge Regression\n",
    "- The Lasso"
   ]
  },
  {
   "cell_type": "markdown",
   "metadata": {},
   "source": [
    "## Ridge Regression"
   ]
  },
  {
   "cell_type": "markdown",
   "metadata": {},
   "source": [
    "SHrinks the regression coefficients\n",
    "- imposes a penalty on the size of the coefficients\n",
    "\n",
    "$$\\beta^{ridge} = argmin_\\beta\\sum_{i=1}^n(y_i - \\beta_0 - \\sum_{j=1}^p\\beta_jx_{ij})^2 + \\lambda\\sum_{j=1}^p\\beta_j^2$$"
   ]
  },
  {
   "cell_type": "markdown",
   "metadata": {},
   "source": [
    "## The Lasso"
   ]
  },
  {
   "cell_type": "markdown",
   "metadata": {},
   "source": [
    "Similar to ridge regression, has a different penalty."
   ]
  },
  {
   "cell_type": "markdown",
   "metadata": {},
   "source": [
    "$$\\beta^{lasso} = argmin_\\beta\\sum_{i=1}^n(y_i - \\beta_0 - \\sum_{j=1}^p\\beta_jx_{ij})^2 + \\lambda\\sum_{j=1}^p|\\beta_j|$$"
   ]
  },
  {
   "cell_type": "markdown",
   "metadata": {},
   "source": [
    "## Ridge Regression vs. The Lasso"
   ]
  },
  {
   "cell_type": "markdown",
   "metadata": {},
   "source": [
    "Ridge regression vs the lasso\n",
    "\n",
    "- Ridge regression: all coefficients are shrunk by the same amount\n",
    "- The lasso: some coefficients are shrunk to zero\n",
    "\n",
    "minimize RSS + $\\lambda\\sum_{j=1}^p\\beta_j^2$"
   ]
  },
  {
   "cell_type": "markdown",
   "metadata": {},
   "source": [
    "Ridge: L2 penalty\n",
    "\n",
    "Laso: L1 penalty"
   ]
  },
  {
   "cell_type": "markdown",
   "metadata": {},
   "source": []
  }
 ],
 "metadata": {
  "language_info": {
   "name": "python"
  },
  "orig_nbformat": 4
 },
 "nbformat": 4,
 "nbformat_minor": 2
}
