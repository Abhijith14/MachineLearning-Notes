{
 "cells": [
  {
   "cell_type": "code",
   "execution_count": 4,
   "metadata": {},
   "outputs": [],
   "source": [
    "import numpy as np\n",
    "import pandas as pd\n",
    "import matplotlib.pyplot as plt\n",
    "import seaborn as sns\n",
    "import plotly\n",
    "import tensorflow as tf\n",
    "from sklearn.metrics import accuracy_score, classification_report"
   ]
  },
  {
   "cell_type": "code",
   "execution_count": 5,
   "metadata": {},
   "outputs": [],
   "source": [
    "train_directory = 'blood_cell_data/TRAIN'\n",
    "test_directory = 'blood_cell_data/TEST'"
   ]
  },
  {
   "cell_type": "code",
   "execution_count": 7,
   "metadata": {},
   "outputs": [],
   "source": [
    "# Create generators\n",
    "train_generator = tf.keras.preprocessing.image.ImageDataGenerator(\n",
    "    preprocessing_function=tf.keras.applications.mobilenet_v2.preprocess_input,\n",
    "    validation_split=0.2\n",
    ")\n",
    "\n",
    "test_generator = tf.keras.preprocessing.image.ImageDataGenerator(\n",
    "    preprocessing_function=tf.keras.applications.mobilenet_v2.preprocess_input\n",
    ")"
   ]
  },
  {
   "cell_type": "code",
   "execution_count": 4,
   "metadata": {},
   "outputs": [
    {
     "name": "stdout",
     "output_type": "stream",
     "text": [
      "Found 7968 images belonging to 4 classes.\n",
      "Found 1989 images belonging to 4 classes.\n",
      "Found 71 images belonging to 4 classes.\n"
     ]
    }
   ],
   "source": [
    "# Flow image data\n",
    "train_images=train_generator.flow_from_directory(\n",
    "    directory=train_directory,\n",
    "    target_size=(224, 224),\n",
    "    color_mode='rgb',\n",
    "    class_mode='categorical',\n",
    "    batch_size=32,\n",
    "    shuffle=True,\n",
    "    seed=42,\n",
    "    subset='training'\n",
    ")\n",
    "\n",
    "val_images=train_generator.flow_from_directory(\n",
    "    directory=train_directory,\n",
    "    target_size=(224, 224),\n",
    "    color_mode='rgb',\n",
    "    class_mode='categorical',\n",
    "    batch_size=32,\n",
    "    shuffle=True,\n",
    "    seed=42,\n",
    "    subset='validation'\n",
    ")\n",
    "\n",
    "test_images=test_generator.flow_from_directory(\n",
    "    directory=test_directory,\n",
    "    target_size=(224, 224),\n",
    "    color_mode='rgb',\n",
    "    class_mode='categorical',\n",
    "    batch_size=32,\n",
    "    shuffle=False\n",
    ")"
   ]
  },
  {
   "cell_type": "code",
   "execution_count": 5,
   "metadata": {},
   "outputs": [
    {
     "name": "stdout",
     "output_type": "stream",
     "text": [
      "Downloading data from https://storage.googleapis.com/tensorflow/keras-applications/mobilenet_v2/mobilenet_v2_weights_tf_dim_ordering_tf_kernels_1.0_224_no_top.h5\n",
      "9412608/9406464 [==============================] - 1s 0us/step\n",
      "9420800/9406464 [==============================] - 1s 0us/step\n"
     ]
    }
   ],
   "source": [
    "# Load pretrained model\n",
    "pretrained_model = tf.keras.applications.mobilenet_v2.MobileNetV2(\n",
    "    input_shape=(224, 224, 3),\n",
    "    include_top=False,\n",
    "    weights='imagenet',\n",
    "    pooling='avg'\n",
    ")\n",
    "\n",
    "# The convolutional layers have already been optimized to extract features\n",
    "pretrained_model.trainable = False"
   ]
  },
  {
   "cell_type": "code",
   "execution_count": 6,
   "metadata": {},
   "outputs": [],
   "source": [
    "inputs = pretrained_model.input\n",
    "x = tf.keras.layers.Dense(128, activation='relu')(pretrained_model.output)\n",
    "outputs = tf.keras.layers.Dense(4, activation='softmax')(x)\n",
    "\n",
    "model = tf.keras.Model(inputs=inputs, outputs=outputs)\n",
    "\n",
    "model.compile(\n",
    "    optimizer='adam',\n",
    "    loss='categorical_crossentropy',\n",
    "    metrics=['accuracy']\n",
    ")"
   ]
  },
  {
   "cell_type": "code",
   "execution_count": 7,
   "metadata": {},
   "outputs": [
    {
     "name": "stdout",
     "output_type": "stream",
     "text": [
      "Epoch 1/100\n",
      "249/249 [==============================] - 182s 715ms/step - loss: 0.8430 - accuracy: 0.6565 - val_loss: 0.5838 - val_accuracy: 0.7662\n",
      "Epoch 2/100\n",
      "249/249 [==============================] - 180s 725ms/step - loss: 0.4850 - accuracy: 0.8164 - val_loss: 0.4314 - val_accuracy: 0.8351\n",
      "Epoch 3/100\n",
      "249/249 [==============================] - 187s 753ms/step - loss: 0.3600 - accuracy: 0.8652 - val_loss: 0.3810 - val_accuracy: 0.8522\n",
      "Epoch 4/100\n",
      "249/249 [==============================] - 182s 732ms/step - loss: 0.2831 - accuracy: 0.8997 - val_loss: 0.4123 - val_accuracy: 0.8406\n",
      "Epoch 5/100\n",
      "249/249 [==============================] - 185s 744ms/step - loss: 0.2296 - accuracy: 0.9168 - val_loss: 0.2722 - val_accuracy: 0.8944\n",
      "Epoch 6/100\n",
      "249/249 [==============================] - 190s 762ms/step - loss: 0.1738 - accuracy: 0.9399 - val_loss: 0.4195 - val_accuracy: 0.8311\n",
      "Epoch 7/100\n",
      "249/249 [==============================] - 202s 811ms/step - loss: 0.1445 - accuracy: 0.9537 - val_loss: 0.2162 - val_accuracy: 0.9196\n",
      "Epoch 8/100\n",
      "249/249 [==============================] - 199s 801ms/step - loss: 0.1262 - accuracy: 0.9586 - val_loss: 0.2056 - val_accuracy: 0.9216\n",
      "Epoch 9/100\n",
      "249/249 [==============================] - 194s 781ms/step - loss: 0.0991 - accuracy: 0.9664 - val_loss: 0.1927 - val_accuracy: 0.9286\n",
      "Epoch 10/100\n",
      "249/249 [==============================] - 194s 779ms/step - loss: 0.0831 - accuracy: 0.9731 - val_loss: 0.1965 - val_accuracy: 0.9246\n",
      "Epoch 11/100\n",
      "249/249 [==============================] - 187s 751ms/step - loss: 0.0646 - accuracy: 0.9821 - val_loss: 0.1837 - val_accuracy: 0.9336\n",
      "Epoch 12/100\n",
      "249/249 [==============================] - 194s 779ms/step - loss: 0.0443 - accuracy: 0.9903 - val_loss: 0.1671 - val_accuracy: 0.9407\n",
      "Epoch 13/100\n",
      "249/249 [==============================] - 188s 757ms/step - loss: 0.0389 - accuracy: 0.9916 - val_loss: 0.1715 - val_accuracy: 0.9377\n",
      "Epoch 14/100\n",
      "249/249 [==============================] - 180s 723ms/step - loss: 0.0332 - accuracy: 0.9940 - val_loss: 0.1730 - val_accuracy: 0.9367\n",
      "Epoch 15/100\n",
      "249/249 [==============================] - 194s 781ms/step - loss: 0.0682 - accuracy: 0.9762 - val_loss: 0.2273 - val_accuracy: 0.9211\n"
     ]
    }
   ],
   "source": [
    "history = model.fit(\n",
    "    train_images,\n",
    "    validation_data=val_images,\n",
    "    epochs=100,\n",
    "    callbacks=[\n",
    "        tf.keras.callbacks.EarlyStopping(\n",
    "            monitor='val_loss',\n",
    "            patience=   3,\n",
    "            restore_best_weights=True\n",
    "        )\n",
    "    ]\n",
    ") ## dewei.yi@abdn.ac.uk"
   ]
  },
  {
   "cell_type": "code",
   "execution_count": 9,
   "metadata": {},
   "outputs": [
    {
     "data": {
      "image/png": "[encoded data removed]",
      "text/plain": [
       "<Figure size 800x800 with 1 Axes>"
      ]
     },
     "metadata": {},
     "output_type": "display_data"
    },
    {
     "data": {
      "image/png": "[encoded data removed]",
      "text/plain": [
       "<Figure size 800x800 with 2 Axes>"
      ]
     },
     "metadata": {},
     "output_type": "display_data"
    }
   ],
   "source": [
    "\n",
    "# Plot the training and validation accuracy/loss at each epoch\n",
    "acc = history.history['accuracy']\n",
    "val_acc = history.history['val_accuracy']\n",
    "\n",
    "loss = history.history['loss']\n",
    "val_loss = history.history['val_loss']\n",
    "\n",
    "epochs_range = range(15)\n",
    "\n",
    "plt.figure(figsize=(8, 8))\n",
    "plt.subplot(1, 2, 1)\n",
    "plt.plot(epochs_range, acc, label='Training Accuracy')\n",
    "plt.plot(epochs_range, val_acc, label='Validation Accuracy')\n",
    "plt.legend(loc='lower right')\n",
    "plt.title('Training and Validation Accuracy')\n",
    "\n",
    "plt.subplot(1, 2, 2)\n",
    "plt.plot(epochs_range, loss, label='Training Loss')\n",
    "plt.plot(epochs_range, val_loss, label='Validation Loss')\n",
    "plt.legend(loc='upper right')\n",
    "plt.title('Training and Validation Loss')\n",
    "plt.show()"
   ]
  },
  {
   "cell_type": "code",
   "execution_count": 10,
   "metadata": {},
   "outputs": [],
   "source": [
    "#https://www.kaggle.com/code/paulbacher/blood-cell-type-image-classification\n",
    "\n",
    "# https://www.kaggle.com/code/blitzapurv/blood-cell-image-classification"
   ]
  },
  {
   "cell_type": "code",
   "execution_count": 9,
   "metadata": {},
   "outputs": [],
   "source": [
    "batch_size = 32\n",
    "img_height = 120\n",
    "img_width = 120"
   ]
  },
  {
   "cell_type": "code",
   "execution_count": 10,
   "metadata": {},
   "outputs": [],
   "source": [
    "import pathlib\n",
    "\n",
    "\n",
    "train_dir = pathlib.Path(\"blood_cell_data/TRAIN\")\n",
    "test_dir = pathlib.Path(\"blood_cell_data/TEST\")"
   ]
  },
  {
   "cell_type": "code",
   "execution_count": 11,
   "metadata": {},
   "outputs": [
    {
     "data": {
      "text/plain": [
       "['EOSINOPHIL', 'LYMPHOCYTE', 'MONOCYTE', 'NEUTROPHIL']"
      ]
     },
     "execution_count": 11,
     "metadata": {},
     "output_type": "execute_result"
    }
   ],
   "source": [
    "class_names = os.listdir(train_dir)\n",
    "class_names"
   ]
  },
  {
   "cell_type": "code",
   "execution_count": 12,
   "metadata": {},
   "outputs": [
    {
     "data": {
      "text/plain": [
       "(240, 320, 3)"
      ]
     },
     "execution_count": 12,
     "metadata": {},
     "output_type": "execute_result"
    }
   ],
   "source": [
    "# resolution of images\n",
    "plt.imread(str(list(train_dir.glob(class_names[1]+'/*.jpeg'))[0])).shape"
   ]
  },
  {
   "cell_type": "code",
   "execution_count": 13,
   "metadata": {},
   "outputs": [
    {
     "name": "stdout",
     "output_type": "stream",
     "text": [
      "Found 9957 files belonging to 4 classes.\n",
      "Using 8763 files for training.\n"
     ]
    }
   ],
   "source": [
    "train_ds = tf.keras.preprocessing.image_dataset_from_directory(\n",
    "    train_dir,\n",
    "    seed=21,\n",
    "    validation_split= 0.12,\n",
    "    subset= 'training',\n",
    "    image_size=(img_height,img_width),\n",
    "    batch_size = batch_size\n",
    ")"
   ]
  },
  {
   "cell_type": "code",
   "execution_count": 14,
   "metadata": {},
   "outputs": [
    {
     "name": "stdout",
     "output_type": "stream",
     "text": [
      "Found 9957 files belonging to 4 classes.\n",
      "Using 1194 files for validation.\n"
     ]
    }
   ],
   "source": [
    "val_ds = tf.keras.preprocessing.image_dataset_from_directory(\n",
    "    train_dir,\n",
    "    seed=21,\n",
    "    validation_split= 0.12,\n",
    "    subset= 'validation',\n",
    "    image_size=(img_height,img_width),\n",
    "    batch_size = batch_size\n",
    ")"
   ]
  },
  {
   "cell_type": "code",
   "execution_count": 15,
   "metadata": {},
   "outputs": [
    {
     "name": "stdout",
     "output_type": "stream",
     "text": [
      "Found 71 files belonging to 4 classes.\n"
     ]
    }
   ],
   "source": [
    "test_ds = tf.keras.preprocessing.image_dataset_from_directory(\n",
    "    test_dir,\n",
    "    image_size=(img_height,img_width),\n",
    "    batch_size = batch_size\n",
    ")"
   ]
  },
  {
   "cell_type": "code",
   "execution_count": 11,
   "metadata": {},
   "outputs": [],
   "source": [
    "from keras.layers import Dense, Dropout, Flatten, Conv2D, MaxPool2D, Rescaling\n",
    "from keras.models import Sequential\n",
    "num_classes = 4\n",
    "\n",
    "model = Sequential([\n",
    "                    Rescaling(1./255, input_shape=(img_height, img_width,3))\n",
    "])\n",
    "model.add(Conv2D(filters = 16, kernel_size = (3,3),padding = 'Same', \n",
    "                 activation ='relu', input_shape = (120, 120, 3)))\n",
    "model.add(MaxPool2D(pool_size=(2,2)))\n",
    "\n",
    "model.add(Conv2D(filters = 32, kernel_size = (3,3),padding = 'Same', \n",
    "                 activation ='relu'))\n",
    "model.add(MaxPool2D(pool_size=(2,2)))\n",
    "\n",
    "model.add(Conv2D(filters = 64, kernel_size = (3,3),padding = 'Same', \n",
    "                 activation ='relu'))\n",
    "model.add(MaxPool2D(pool_size=(2,2)))\n",
    "\n",
    "model.add(Flatten())\n",
    "model.add(Dense(num_classes, activation = \"softmax\"))"
   ]
  },
  {
   "cell_type": "code",
   "execution_count": 12,
   "metadata": {},
   "outputs": [
    {
     "name": "stdout",
     "output_type": "stream",
     "text": [
      "Model: \"sequential\"\n",
      "_________________________________________________________________\n",
      "Layer (type)                 Output Shape              Param #   \n",
      "=================================================================\n",
      "rescaling (Rescaling)        (None, 120, 120, 3)       0         \n",
      "_________________________________________________________________\n",
      "conv2d (Conv2D)              (None, 120, 120, 16)      448       \n",
      "_________________________________________________________________\n",
      "max_pooling2d (MaxPooling2D) (None, 60, 60, 16)        0         \n",
      "_________________________________________________________________\n",
      "conv2d_1 (Conv2D)            (None, 60, 60, 32)        4640      \n",
      "_________________________________________________________________\n",
      "max_pooling2d_1 (MaxPooling2 (None, 30, 30, 32)        0         \n",
      "_________________________________________________________________\n",
      "conv2d_2 (Conv2D)            (None, 30, 30, 64)        18496     \n",
      "_________________________________________________________________\n",
      "max_pooling2d_2 (MaxPooling2 (None, 15, 15, 64)        0         \n",
      "_________________________________________________________________\n",
      "flatten (Flatten)            (None, 14400)             0         \n",
      "_________________________________________________________________\n",
      "dense (Dense)                (None, 4)                 57604     \n",
      "=================================================================\n",
      "Total params: 81,188\n",
      "Trainable params: 81,188\n",
      "Non-trainable params: 0\n",
      "_________________________________________________________________\n"
     ]
    }
   ],
   "source": [
    "model.summary()"
   ]
  },
  {
   "cell_type": "code",
   "execution_count": 31,
   "metadata": {},
   "outputs": [
    {
     "name": "stdout",
     "output_type": "stream",
     "text": [
      "Epoch 1/20\n",
      "274/274 [==============================] - 62s 223ms/step - loss: 0.2391 - accuracy: 0.9078 - val_loss: 0.2745 - val_accuracy: 0.8894\n",
      "Epoch 2/20\n",
      "274/274 [==============================] - 56s 203ms/step - loss: 0.1942 - accuracy: 0.9313 - val_loss: 0.2548 - val_accuracy: 0.9003\n",
      "Epoch 3/20\n",
      "274/274 [==============================] - 49s 179ms/step - loss: 0.1593 - accuracy: 0.9412 - val_loss: 0.2861 - val_accuracy: 0.8819\n",
      "Epoch 4/20\n",
      "274/274 [==============================] - 58s 211ms/step - loss: 0.1216 - accuracy: 0.9575 - val_loss: 0.3996 - val_accuracy: 0.8492\n",
      "Epoch 5/20\n",
      "274/274 [==============================] - 55s 200ms/step - loss: 0.1008 - accuracy: 0.9678 - val_loss: 0.2319 - val_accuracy: 0.9020\n",
      "Epoch 6/20\n",
      "274/274 [==============================] - 51s 184ms/step - loss: 0.0907 - accuracy: 0.9708 - val_loss: 0.2676 - val_accuracy: 0.8936\n",
      "Epoch 7/20\n",
      "274/274 [==============================] - 51s 187ms/step - loss: 0.0617 - accuracy: 0.9814 - val_loss: 0.3097 - val_accuracy: 0.8869\n",
      "Epoch 8/20\n",
      "274/274 [==============================] - 49s 178ms/step - loss: 0.0787 - accuracy: 0.9723 - val_loss: 0.2727 - val_accuracy: 0.8936\n",
      "Epoch 9/20\n",
      "274/274 [==============================] - 36s 131ms/step - loss: 0.0512 - accuracy: 0.9852 - val_loss: 0.2732 - val_accuracy: 0.9079\n",
      "Epoch 10/20\n",
      "274/274 [==============================] - 35s 126ms/step - loss: 0.0541 - accuracy: 0.9823 - val_loss: 0.2694 - val_accuracy: 0.9079\n",
      "Epoch 11/20\n",
      "274/274 [==============================] - 42s 154ms/step - loss: 0.0351 - accuracy: 0.9906 - val_loss: 0.3501 - val_accuracy: 0.8827\n",
      "Epoch 12/20\n",
      "274/274 [==============================] - 49s 177ms/step - loss: 0.0215 - accuracy: 0.9963 - val_loss: 0.2710 - val_accuracy: 0.9137\n",
      "Epoch 13/20\n",
      "274/274 [==============================] - 32s 116ms/step - loss: 0.0198 - accuracy: 0.9954 - val_loss: 0.2441 - val_accuracy: 0.9213\n",
      "Epoch 14/20\n",
      "274/274 [==============================] - 52s 188ms/step - loss: 0.0098 - accuracy: 0.9986 - val_loss: 0.3552 - val_accuracy: 0.9037\n",
      "Epoch 15/20\n",
      "274/274 [==============================] - 51s 184ms/step - loss: 0.0885 - accuracy: 0.9764 - val_loss: 0.2434 - val_accuracy: 0.9162\n",
      "Epoch 16/20\n",
      "274/274 [==============================] - 50s 183ms/step - loss: 0.0087 - accuracy: 0.9991 - val_loss: 0.2652 - val_accuracy: 0.9179\n",
      "Epoch 17/20\n",
      "274/274 [==============================] - 51s 186ms/step - loss: 0.0044 - accuracy: 1.0000 - val_loss: 0.2649 - val_accuracy: 0.9213\n",
      "Epoch 18/20\n",
      "274/274 [==============================] - 49s 180ms/step - loss: 0.0026 - accuracy: 1.0000 - val_loss: 0.2760 - val_accuracy: 0.9204\n",
      "Epoch 19/20\n",
      "274/274 [==============================] - 50s 182ms/step - loss: 0.0019 - accuracy: 1.0000 - val_loss: 0.2820 - val_accuracy: 0.9229\n",
      "Epoch 20/20\n",
      "274/274 [==============================] - 51s 185ms/step - loss: 0.0013 - accuracy: 1.0000 - val_loss: 0.2908 - val_accuracy: 0.9238\n"
     ]
    }
   ],
   "source": [
    "model.compile(optimizer='adam',\n",
    "              loss=tf.keras.losses.SparseCategoricalCrossentropy(from_logits=True),\n",
    "              metrics=['accuracy'])\n",
    "\n",
    "epochs = 20\n",
    "history_model = model.fit(\n",
    "                    train_ds,\n",
    "                    validation_data=val_ds,\n",
    "                    epochs=epochs\n",
    "                    #callbacks=callbacks\n",
    ")"
   ]
  },
  {
   "cell_type": "code",
   "execution_count": 16,
   "metadata": {},
   "outputs": [
    {
     "ename": "NameError",
     "evalue": "name 'history_model' is not defined",
     "output_type": "error",
     "traceback": [
      "\u001b[1;31m---------------------------------------------------------------------------\u001b[0m",
      "\u001b[1;31mNameError\u001b[0m                                 Traceback (most recent call last)",
      "\u001b[1;32mc:\\Users\\ABHIJITH UDAYAKUMAR\\Python Notebooks\\MachineLearning-Notes\\A1\\T1-final.ipynb Cell 20\u001b[0m in \u001b[0;36m<cell line: 2>\u001b[1;34m()\u001b[0m\n\u001b[0;32m      <a href='vscode-notebook-cell:/c%3A/Users/ABHIJITH%20UDAYAKUMAR/Python%20Notebooks/MachineLearning-Notes/A1/T1-final.ipynb#X25sZmlsZQ%3D%3D?line=0'>1</a>\u001b[0m \u001b[39m# Plot the training and validation accuracy/loss at each epoch\u001b[39;00m\n\u001b[1;32m----> <a href='vscode-notebook-cell:/c%3A/Users/ABHIJITH%20UDAYAKUMAR/Python%20Notebooks/MachineLearning-Notes/A1/T1-final.ipynb#X25sZmlsZQ%3D%3D?line=1'>2</a>\u001b[0m acc \u001b[39m=\u001b[39m history_model\u001b[39m.\u001b[39mhistory[\u001b[39m'\u001b[39m\u001b[39maccuracy\u001b[39m\u001b[39m'\u001b[39m]\n\u001b[0;32m      <a href='vscode-notebook-cell:/c%3A/Users/ABHIJITH%20UDAYAKUMAR/Python%20Notebooks/MachineLearning-Notes/A1/T1-final.ipynb#X25sZmlsZQ%3D%3D?line=2'>3</a>\u001b[0m val_acc \u001b[39m=\u001b[39m history_model\u001b[39m.\u001b[39mhistory[\u001b[39m'\u001b[39m\u001b[39mval_accuracy\u001b[39m\u001b[39m'\u001b[39m]\n\u001b[0;32m      <a href='vscode-notebook-cell:/c%3A/Users/ABHIJITH%20UDAYAKUMAR/Python%20Notebooks/MachineLearning-Notes/A1/T1-final.ipynb#X25sZmlsZQ%3D%3D?line=4'>5</a>\u001b[0m loss \u001b[39m=\u001b[39m history_model\u001b[39m.\u001b[39mhistory[\u001b[39m'\u001b[39m\u001b[39mloss\u001b[39m\u001b[39m'\u001b[39m]\n",
      "\u001b[1;31mNameError\u001b[0m: name 'history_model' is not defined"
     ]
    }
   ],
   "source": [
    "# Plot the training and validation accuracy/loss at each epoch\n",
    "acc = history_model.history['accuracy']\n",
    "val_acc = history_model.history['val_accuracy']\n",
    "\n",
    "loss = history_model.history['loss']\n",
    "val_loss = history_model.history['val_loss']\n",
    "\n",
    "epochs_range = range(20)\n",
    "\n",
    "plt.figure(figsize=(8, 8))\n",
    "plt.subplot(1, 2, 1)\n",
    "plt.plot(epochs_range, acc, label='Training Accuracy')\n",
    "plt.plot(epochs_range, val_acc, label='Validation Accuracy')\n",
    "plt.legend(loc='lower right')\n",
    "plt.title('Training and Validation Accuracy')\n",
    "\n",
    "plt.subplot(1, 2, 2)\n",
    "plt.plot(epochs_range, loss, label='Training Loss')\n",
    "plt.plot(epochs_range, val_loss, label='Validation Loss')\n",
    "plt.legend(loc='upper right')\n",
    "plt.title('Training and Validation Loss')\n",
    "plt.show()"
   ]
  },
  {
   "cell_type": "code",
   "execution_count": 17,
   "metadata": {},
   "outputs": [
    {
     "data": {
      "text/plain": [
       "['EOSINOPHIL', 'LYMPHOCYTE', 'MONOCYTE', 'NEUTROPHIL']"
      ]
     },
     "execution_count": 17,
     "metadata": {},
     "output_type": "execute_result"
    }
   ],
   "source": [
    "## Data Augmentation\n",
    "# import os\n",
    "# os.path.join(train_dir,'MONOCYTE')\n",
    "train_ds.class_names"
   ]
  },
  {
   "cell_type": "code",
   "execution_count": 19,
   "metadata": {},
   "outputs": [],
   "source": [
    "#function for preprocessing the images\n",
    "from skimage import io\n",
    "from skimage.transform import rescale, resize\n",
    "from tensorflow.keras.preprocessing.image import ImageDataGenerator\n",
    "\n",
    "datagen = ImageDataGenerator(\n",
    "    rescale=1.0/255.0,\n",
    "    #featurewise_center=True,\n",
    "    #featurewise_std_normalization=True,\n",
    "    rotation_range=30,\n",
    "    width_shift_range=0.1,\n",
    "    height_shift_range=0.1,\n",
    "    zoom_range = 0.2,\n",
    "    horizontal_flip=True,\n",
    "    vertical_flip=True,)\n",
    "\n",
    "def preprocess_img(img, output_shape, mode):\n",
    "    #img = (img - img.min())/(img.max() - img.min())\n",
    "    #img = rescale(img, 0.25, multichannel=True, mode='constant')\n",
    "    img = resize(img, output_shape, anti_aliasing=True, mode='constant')\n",
    "    \n",
    "    if mode == 'train':\n",
    "        if np.random.randn() > 0:\n",
    "            img = datagen.random_transform(img)\n",
    "    return img"
   ]
  },
  {
   "cell_type": "code",
   "execution_count": 20,
   "metadata": {},
   "outputs": [
    {
     "ename": "ModuleNotFoundError",
     "evalue": "No module named 'tqdm'",
     "output_type": "error",
     "traceback": [
      "\u001b[1;31m---------------------------------------------------------------------------\u001b[0m",
      "\u001b[1;31mModuleNotFoundError\u001b[0m                       Traceback (most recent call last)",
      "\u001b[1;32mc:\\Users\\ABHIJITH UDAYAKUMAR\\Python Notebooks\\MachineLearning-Notes\\A1\\T1-final.ipynb Cell 23\u001b[0m in \u001b[0;36m<cell line: 2>\u001b[1;34m()\u001b[0m\n\u001b[0;32m      <a href='vscode-notebook-cell:/c%3A/Users/ABHIJITH%20UDAYAKUMAR/Python%20Notebooks/MachineLearning-Notes/A1/T1-final.ipynb#X31sZmlsZQ%3D%3D?line=0'>1</a>\u001b[0m \u001b[39mimport\u001b[39;00m \u001b[39mos\u001b[39;00m\n\u001b[1;32m----> <a href='vscode-notebook-cell:/c%3A/Users/ABHIJITH%20UDAYAKUMAR/Python%20Notebooks/MachineLearning-Notes/A1/T1-final.ipynb#X31sZmlsZQ%3D%3D?line=1'>2</a>\u001b[0m \u001b[39mfrom\u001b[39;00m \u001b[39mtqdm\u001b[39;00m \u001b[39mimport\u001b[39;00m tqdm\n\u001b[0;32m      <a href='vscode-notebook-cell:/c%3A/Users/ABHIJITH%20UDAYAKUMAR/Python%20Notebooks/MachineLearning-Notes/A1/T1-final.ipynb#X31sZmlsZQ%3D%3D?line=2'>3</a>\u001b[0m \u001b[39mimport\u001b[39;00m \u001b[39mcv2\u001b[39;00m\n\u001b[0;32m      <a href='vscode-notebook-cell:/c%3A/Users/ABHIJITH%20UDAYAKUMAR/Python%20Notebooks/MachineLearning-Notes/A1/T1-final.ipynb#X31sZmlsZQ%3D%3D?line=4'>5</a>\u001b[0m \u001b[39mdef\u001b[39;00m \u001b[39mload_data\u001b[39m(mode \u001b[39m=\u001b[39m \u001b[39m'\u001b[39m\u001b[39mtrain\u001b[39m\u001b[39m'\u001b[39m):\n",
      "\u001b[1;31mModuleNotFoundError\u001b[0m: No module named 'tqdm'"
     ]
    }
   ],
   "source": [
    "import os\n",
    "from tqdm import tqdm\n",
    "import cv2\n",
    "\n",
    "def load_data(mode = 'train'):\n",
    "    \n",
    "    images = []\n",
    "    labels = []\n",
    "\n",
    "    # iterate through training and test sets\n",
    "    count =0\n",
    "    \n",
    "    if mode == 'train':\n",
    "        dataset = \"blood_cell_data/TRAIN\"\n",
    "    else:\n",
    "        dataset = \"blood_cell_data/TEST\"\n",
    "\n",
    "    # iterate through folders in each dataset\n",
    "    for folder in os.listdir(dataset):\n",
    "\n",
    "        if folder in ['EOSINOPHIL']: label = 0\n",
    "        elif folder in ['LYMPHOCYTE']: label = 1\n",
    "        elif folder in ['MONOCYTE']: label = 2\n",
    "        elif folder in ['NEUTROPHIL']: label = 3\n",
    "\n",
    "        # iterate through each image in folder\n",
    "        for file in tqdm(os.listdir(os.path.join(dataset, folder))):\n",
    "\n",
    "            # get pathname of each image\n",
    "            img_path = os.path.join(os.path.join(dataset, folder), file)\n",
    "\n",
    "            # Open \n",
    "            image = cv2.imread(img_path)\n",
    "            image = cv2.cvtColor(image, cv2.COLOR_BGR2RGB)\n",
    "\n",
    "            # resize the image\n",
    "            #image = cv2.resize(image, image_size)\n",
    "            image = preprocess_img(image, (img_height,img_width,3), mode = 'test')\n",
    "            \n",
    "            # Append the image and its corresponding label to the output\n",
    "            images.append(image)\n",
    "            labels.append(label)\n",
    "\n",
    "    images = np.array(images, dtype = 'float32')\n",
    "    labels = np.array(labels, dtype = 'int32')\n",
    "\n",
    "    return images, labels"
   ]
  },
  {
   "cell_type": "code",
   "execution_count": 17,
   "metadata": {},
   "outputs": [],
   "source": [
    "#loading data again\n",
    "# X_train, y_train = load_data(mode = 'train')\n",
    "# X_test, y_test = load_data(mode = 'test')\n",
    "\n",
    "# print(X_train, y_train)"
   ]
  },
  {
   "cell_type": "code",
   "execution_count": 18,
   "metadata": {},
   "outputs": [
    {
     "name": "stdout",
     "output_type": "stream",
     "text": [
      "blood_cell_data\\TRAIN\\EOSINOPHIL\n",
      "2497\n",
      "blood_cell_data\\TRAIN\\LYMPHOCYTE\n",
      "2483\n",
      "blood_cell_data\\TRAIN\\MONOCYTE\n",
      "2478\n",
      "blood_cell_data\\TRAIN\\NEUTROPHIL\n",
      "2499\n"
     ]
    }
   ],
   "source": [
    "train_df = pd.DataFrame(columns=['path','cell_class'])\n",
    "img_path = np.array([])\n",
    "labels =  np.array([])\n",
    "for cell_class in os.listdir(train_dir):\n",
    "    print(os.path.join(train_dir, cell_class))\n",
    "    print(len(os.listdir(os.path.join(train_dir,cell_class))))\n",
    "    img_path = np.concatenate([img_path, [os.path.join(train_dir,cell_class,k) for k in os.listdir(os.path.join(train_dir,cell_class))]])\n",
    "    labels = np.concatenate([labels, np.array([cell_class]*len(os.listdir(os.path.join(train_dir,cell_class))))])\n",
    "train_df['path'] = img_path\n",
    "train_df['cell_class'] = labels"
   ]
  },
  {
   "cell_type": "code",
   "execution_count": 19,
   "metadata": {},
   "outputs": [],
   "source": [
    "# defining some parameters for the loader\n",
    "\n",
    "batch_size = 64\n",
    "img_height = 120\n",
    "img_width = 160\n",
    "\n",
    "# working with 120 x 160 resolution images. Keeping the aspect ratio same this time."
   ]
  },
  {
   "cell_type": "code",
   "execution_count": 20,
   "metadata": {},
   "outputs": [],
   "source": [
    "import glob\n",
    "\n",
    "SEED = 12345\n",
    "DATASET_PATH = train_dir\n",
    "class_names = train_ds.class_names\n",
    "\n",
    "class AugmentedDataGenerator(tf.keras.utils.Sequence):\n",
    "    'Generates data for Keras'\n",
    "    def __init__(self, mode='train', class_names = class_names, \n",
    "                 batch_size=batch_size, dim=(img_height, img_width), n_channels=3, shuffle=True):\n",
    "        'Initialization'\n",
    "        self.dim = dim\n",
    "        self.batch_size = batch_size\n",
    "        self.labels = {}\n",
    "        self.list_IDs = []\n",
    "        self.mode = mode\n",
    "        \n",
    "        for i, ccls in enumerate(class_names):\n",
    "            paths = glob.glob(os.path.join(DATASET_PATH, ccls, '*'))\n",
    "            brk_point = int(len(paths)*0.85)\n",
    "            if self.mode == 'train':\n",
    "                #paths = paths[:brk_point]\n",
    "                paths_series = pd.Series(paths)\n",
    "                paths = paths_series.sample(frac = 0.85, random_state=SEED).to_list()\n",
    "            else:\n",
    "                #paths = paths[brk_point:]\n",
    "                paths_series = pd.Series(paths)\n",
    "                paths_1 = paths_series.sample(frac = 0.85, random_state=SEED)\n",
    "                paths = [p for p in paths_series.to_list() if p not in paths_1]\n",
    "            self.list_IDs += paths\n",
    "            self.labels.update({p:i for p in paths})\n",
    "        \n",
    "            \n",
    "        self.n_channels = n_channels\n",
    "        self.n_classes = len(class_names)\n",
    "        self.shuffle = shuffle\n",
    "        self.on_epoch_end()\n",
    "\n",
    "    def __len__(self):\n",
    "        'Denotes the number of batches per epoch'\n",
    "        return int(np.floor(len(self.list_IDs) / self.batch_size))\n",
    "\n",
    "    def __getitem__(self, index):\n",
    "        'Generate one batch of data'\n",
    "\n",
    "        indexes = self.indexes[index*self.batch_size:(index+1)*self.batch_size]\n",
    "        list_IDs_temp = [self.list_IDs[k] for k in indexes]\n",
    "\n",
    "        X, y = self.__data_generation(list_IDs_temp)\n",
    "\n",
    "        return X, y\n",
    "\n",
    "    def on_epoch_end(self):\n",
    "        'Updates indexes after each epoch'\n",
    "        self.indexes = np.arange(len(self.list_IDs))\n",
    "        if self.shuffle == True:\n",
    "            np.random.shuffle(self.indexes)\n",
    "\n",
    "    def __data_generation(self, list_IDs_temp):\n",
    "        'Generates data containing batch_size samples' # X : (n_samples, *dim, n_channels)\n",
    "        # Initialization\n",
    "        X = np.empty((self.batch_size, *self.dim, self.n_channels))\n",
    "        y = np.empty((self.batch_size), dtype=int)\n",
    "        \n",
    "        delete_rows = []\n",
    "\n",
    "        # Generate data\n",
    "        for i, ID in enumerate(list_IDs_temp):\n",
    "            img = io.imread(ID)\n",
    "            #img = img[:, :, np.newaxis]\n",
    "            #if img.shape == (240, 320, 3):\n",
    "            img = preprocess_img(img, output_shape=(img_height, img_width, self.n_channels), mode=self.mode)\n",
    "            X[i,] = img\n",
    "            y[i] = self.labels[ID]\n",
    "            #else:\n",
    "            #    delete_rows.append(i)\n",
    "            #    continue\n",
    "        \n",
    "        X = np.delete(X, delete_rows, axis=0)\n",
    "        y = np.delete(y, delete_rows, axis=0)\n",
    "        \n",
    "        return X, y#tf.keras.utils.to_categorical(y, num_classes=self.n_classes)"
   ]
  },
  {
   "cell_type": "code",
   "execution_count": 21,
   "metadata": {},
   "outputs": [],
   "source": [
    "train_gen = AugmentedDataGenerator('train')\n",
    "val_gen = AugmentedDataGenerator('val')"
   ]
  },
  {
   "cell_type": "code",
   "execution_count": 22,
   "metadata": {},
   "outputs": [
    {
     "data": {
      "text/plain": [
       "(64, 120, 160, 3)"
      ]
     },
     "execution_count": 22,
     "metadata": {},
     "output_type": "execute_result"
    }
   ],
   "source": [
    "train_gen.__getitem__(0)[0].shape"
   ]
  },
  {
   "cell_type": "code",
   "execution_count": 23,
   "metadata": {},
   "outputs": [],
   "source": [
    "#callbacks\n",
    "early_stopping_callback = tf.keras.callbacks.EarlyStopping(monitor='val_loss',\n",
    "                            min_delta=0.00001, patience=8, mode='auto', verbose=0, restore_best_weights=True)\n",
    "\n",
    "lr_reducer = tf.keras.callbacks.ReduceLROnPlateau(monitor='val_loss', factor=0.5, verbose=1, min_lr=0.00001, patience=5)\n",
    "\n",
    "callbacks = [early_stopping_callback, lr_reducer]"
   ]
  },
  {
   "cell_type": "code",
   "execution_count": 24,
   "metadata": {},
   "outputs": [],
   "source": [
    "# import sequential model\n",
    "from tensorflow.keras.models import Sequential\n",
    "from keras.layers import Dense, Dropout, Flatten, Conv2D, MaxPool2D, Rescaling\n",
    "from tensorflow.keras.regularizers import l2\n",
    "num_classes = 4\n",
    "\n",
    "model = Sequential([Rescaling(1./1., input_shape=(img_height, img_width,3))])\n",
    "\n",
    "model.add(Conv2D(filters = 32, kernel_size = (3,3),padding = 'Same', \n",
    "                 activation ='relu', input_shape = (120, 160, 32)))\n",
    "model.add(MaxPool2D(pool_size=(2,2)))\n",
    "\n",
    "model.add(Conv2D(filters = 32, kernel_size = (3,3),padding = 'Same', activation ='relu'))\n",
    "model.add(MaxPool2D(pool_size=(2,2)))\n",
    "\n",
    "model.add(Conv2D(filters = 64, kernel_size = (3,3),padding = 'Same', activation ='relu'))\n",
    "model.add(MaxPool2D(pool_size=(2,2)))\n",
    "\n",
    "model.add(Conv2D(filters = 64, kernel_size = (3,3),padding = 'Same', activation ='relu'))\n",
    "model.add(MaxPool2D(pool_size=(2,2)))\n",
    "\n",
    "model.add(Conv2D(filters = 128, kernel_size = (3,3),padding = 'Same', activation ='relu'))\n",
    "model.add(MaxPool2D(pool_size=(2,2)))\n",
    "\n",
    "\n",
    "model.add(Flatten())\n",
    "model.add(Dense(256, activation='relu'))\n",
    "model.add(Dropout(0.25))\n",
    "model.add(Dense(256, activation='relu'))\n",
    "model.add(Dropout(0.20))\n",
    "model.add(Dense(128, activation='relu'))\n",
    "#model.add(Dense(128, kernel_regularizer = l2(0.001), activation='relu'))\n",
    "\n",
    "model.add(Dense(num_classes, activation = \"softmax\"))"
   ]
  },
  {
   "cell_type": "code",
   "execution_count": 25,
   "metadata": {},
   "outputs": [
    {
     "name": "stdout",
     "output_type": "stream",
     "text": [
      "Model: \"sequential_1\"\n",
      "_________________________________________________________________\n",
      "Layer (type)                 Output Shape              Param #   \n",
      "=================================================================\n",
      "rescaling_1 (Rescaling)      (None, 120, 160, 3)       0         \n",
      "_________________________________________________________________\n",
      "conv2d_3 (Conv2D)            (None, 120, 160, 32)      896       \n",
      "_________________________________________________________________\n",
      "max_pooling2d_3 (MaxPooling2 (None, 60, 80, 32)        0         \n",
      "_________________________________________________________________\n",
      "conv2d_4 (Conv2D)            (None, 60, 80, 32)        9248      \n",
      "_________________________________________________________________\n",
      "max_pooling2d_4 (MaxPooling2 (None, 30, 40, 32)        0         \n",
      "_________________________________________________________________\n",
      "conv2d_5 (Conv2D)            (None, 30, 40, 64)        18496     \n",
      "_________________________________________________________________\n",
      "max_pooling2d_5 (MaxPooling2 (None, 15, 20, 64)        0         \n",
      "_________________________________________________________________\n",
      "conv2d_6 (Conv2D)            (None, 15, 20, 64)        36928     \n",
      "_________________________________________________________________\n",
      "max_pooling2d_6 (MaxPooling2 (None, 7, 10, 64)         0         \n",
      "_________________________________________________________________\n",
      "conv2d_7 (Conv2D)            (None, 7, 10, 128)        73856     \n",
      "_________________________________________________________________\n",
      "max_pooling2d_7 (MaxPooling2 (None, 3, 5, 128)         0         \n",
      "_________________________________________________________________\n",
      "flatten_1 (Flatten)          (None, 1920)              0         \n",
      "_________________________________________________________________\n",
      "dense_1 (Dense)              (None, 256)               491776    \n",
      "_________________________________________________________________\n",
      "dropout (Dropout)            (None, 256)               0         \n",
      "_________________________________________________________________\n",
      "dense_2 (Dense)              (None, 256)               65792     \n",
      "_________________________________________________________________\n",
      "dropout_1 (Dropout)          (None, 256)               0         \n",
      "_________________________________________________________________\n",
      "dense_3 (Dense)              (None, 128)               32896     \n",
      "_________________________________________________________________\n",
      "dense_4 (Dense)              (None, 4)                 516       \n",
      "=================================================================\n",
      "Total params: 730,404\n",
      "Trainable params: 730,404\n",
      "Non-trainable params: 0\n",
      "_________________________________________________________________\n"
     ]
    }
   ],
   "source": [
    "model.summary()"
   ]
  },
  {
   "cell_type": "code",
   "execution_count": 26,
   "metadata": {},
   "outputs": [
    {
     "name": "stdout",
     "output_type": "stream",
     "text": [
      "Epoch 1/50\n",
      "132/132 [==============================] - 209s 2s/step - loss: 1.3872 - accuracy: 0.2478 - val_loss: 1.3863 - val_accuracy: 0.2501\n",
      "Epoch 2/50\n",
      "132/132 [==============================] - 211s 2s/step - loss: 1.3866 - accuracy: 0.2466 - val_loss: 1.3863 - val_accuracy: 0.2507\n",
      "Epoch 3/50\n",
      "132/132 [==============================] - 205s 2s/step - loss: 1.3866 - accuracy: 0.2401 - val_loss: 1.3863 - val_accuracy: 0.2506\n",
      "Epoch 4/50\n",
      "132/132 [==============================] - 200s 2s/step - loss: 1.3865 - accuracy: 0.2467 - val_loss: 1.3863 - val_accuracy: 0.2508\n",
      "Epoch 5/50\n",
      "132/132 [==============================] - 199s 2s/step - loss: 1.3864 - accuracy: 0.2493 - val_loss: 1.3863 - val_accuracy: 0.2510\n",
      "Epoch 6/50\n",
      "132/132 [==============================] - 198s 2s/step - loss: 1.3864 - accuracy: 0.2433 - val_loss: 1.3863 - val_accuracy: 0.2511\n",
      "\n",
      "Epoch 00006: ReduceLROnPlateau reducing learning rate to 0.0005000000237487257.\n",
      "Epoch 7/50\n",
      "123/132 [==========================>...] - ETA: 6s - loss: 1.3864 - accuracy: 0.2525"
     ]
    },
    {
     "ename": "KeyboardInterrupt",
     "evalue": "",
     "output_type": "error",
     "traceback": [
      "\u001b[1;31m---------------------------------------------------------------------------\u001b[0m",
      "\u001b[1;31mKeyboardInterrupt\u001b[0m                         Traceback (most recent call last)",
      "\u001b[1;32m<ipython-input-26-cd99f1155894>\u001b[0m in \u001b[0;36m<module>\u001b[1;34m\u001b[0m\n\u001b[0;32m     10\u001b[0m                     \u001b[0mepochs\u001b[0m\u001b[1;33m=\u001b[0m\u001b[0mepochs\u001b[0m\u001b[1;33m,\u001b[0m\u001b[1;33m\u001b[0m\u001b[1;33m\u001b[0m\u001b[0m\n\u001b[0;32m     11\u001b[0m                     \u001b[0mcallbacks\u001b[0m\u001b[1;33m=\u001b[0m\u001b[0mcallbacks\u001b[0m\u001b[1;33m,\u001b[0m\u001b[1;33m\u001b[0m\u001b[1;33m\u001b[0m\u001b[0m\n\u001b[1;32m---> 12\u001b[1;33m                     verbose=1)\n\u001b[0m",
      "\u001b[1;32mc:\\Users\\ABHIJITH UDAYAKUMAR\\.conda\\envs\\tensorflow\\lib\\site-packages\\keras\\engine\\training.py\u001b[0m in \u001b[0;36mfit\u001b[1;34m(self, x, y, batch_size, epochs, verbose, callbacks, validation_split, validation_data, shuffle, class_weight, sample_weight, initial_epoch, steps_per_epoch, validation_steps, validation_batch_size, validation_freq, max_queue_size, workers, use_multiprocessing)\u001b[0m\n\u001b[0;32m   1182\u001b[0m                 _r=1):\n\u001b[0;32m   1183\u001b[0m               \u001b[0mcallbacks\u001b[0m\u001b[1;33m.\u001b[0m\u001b[0mon_train_batch_begin\u001b[0m\u001b[1;33m(\u001b[0m\u001b[0mstep\u001b[0m\u001b[1;33m)\u001b[0m\u001b[1;33m\u001b[0m\u001b[1;33m\u001b[0m\u001b[0m\n\u001b[1;32m-> 1184\u001b[1;33m               \u001b[0mtmp_logs\u001b[0m \u001b[1;33m=\u001b[0m \u001b[0mself\u001b[0m\u001b[1;33m.\u001b[0m\u001b[0mtrain_function\u001b[0m\u001b[1;33m(\u001b[0m\u001b[0miterator\u001b[0m\u001b[1;33m)\u001b[0m\u001b[1;33m\u001b[0m\u001b[1;33m\u001b[0m\u001b[0m\n\u001b[0m\u001b[0;32m   1185\u001b[0m               \u001b[1;32mif\u001b[0m \u001b[0mdata_handler\u001b[0m\u001b[1;33m.\u001b[0m\u001b[0mshould_sync\u001b[0m\u001b[1;33m:\u001b[0m\u001b[1;33m\u001b[0m\u001b[1;33m\u001b[0m\u001b[0m\n\u001b[0;32m   1186\u001b[0m                 \u001b[0mcontext\u001b[0m\u001b[1;33m.\u001b[0m\u001b[0masync_wait\u001b[0m\u001b[1;33m(\u001b[0m\u001b[1;33m)\u001b[0m\u001b[1;33m\u001b[0m\u001b[1;33m\u001b[0m\u001b[0m\n",
      "\u001b[1;32mc:\\Users\\ABHIJITH UDAYAKUMAR\\.conda\\envs\\tensorflow\\lib\\site-packages\\tensorflow\\python\\eager\\def_function.py\u001b[0m in \u001b[0;36m__call__\u001b[1;34m(self, *args, **kwds)\u001b[0m\n\u001b[0;32m    883\u001b[0m \u001b[1;33m\u001b[0m\u001b[0m\n\u001b[0;32m    884\u001b[0m       \u001b[1;32mwith\u001b[0m \u001b[0mOptionalXlaContext\u001b[0m\u001b[1;33m(\u001b[0m\u001b[0mself\u001b[0m\u001b[1;33m.\u001b[0m\u001b[0m_jit_compile\u001b[0m\u001b[1;33m)\u001b[0m\u001b[1;33m:\u001b[0m\u001b[1;33m\u001b[0m\u001b[1;33m\u001b[0m\u001b[0m\n\u001b[1;32m--> 885\u001b[1;33m         \u001b[0mresult\u001b[0m \u001b[1;33m=\u001b[0m \u001b[0mself\u001b[0m\u001b[1;33m.\u001b[0m\u001b[0m_call\u001b[0m\u001b[1;33m(\u001b[0m\u001b[1;33m*\u001b[0m\u001b[0margs\u001b[0m\u001b[1;33m,\u001b[0m \u001b[1;33m**\u001b[0m\u001b[0mkwds\u001b[0m\u001b[1;33m)\u001b[0m\u001b[1;33m\u001b[0m\u001b[1;33m\u001b[0m\u001b[0m\n\u001b[0m\u001b[0;32m    886\u001b[0m \u001b[1;33m\u001b[0m\u001b[0m\n\u001b[0;32m    887\u001b[0m       \u001b[0mnew_tracing_count\u001b[0m \u001b[1;33m=\u001b[0m \u001b[0mself\u001b[0m\u001b[1;33m.\u001b[0m\u001b[0mexperimental_get_tracing_count\u001b[0m\u001b[1;33m(\u001b[0m\u001b[1;33m)\u001b[0m\u001b[1;33m\u001b[0m\u001b[1;33m\u001b[0m\u001b[0m\n",
      "\u001b[1;32mc:\\Users\\ABHIJITH UDAYAKUMAR\\.conda\\envs\\tensorflow\\lib\\site-packages\\tensorflow\\python\\eager\\def_function.py\u001b[0m in \u001b[0;36m_call\u001b[1;34m(self, *args, **kwds)\u001b[0m\n\u001b[0;32m    915\u001b[0m       \u001b[1;31m# In this case we have created variables on the first call, so we run the\u001b[0m\u001b[1;33m\u001b[0m\u001b[1;33m\u001b[0m\u001b[1;33m\u001b[0m\u001b[0m\n\u001b[0;32m    916\u001b[0m       \u001b[1;31m# defunned version which is guaranteed to never create variables.\u001b[0m\u001b[1;33m\u001b[0m\u001b[1;33m\u001b[0m\u001b[1;33m\u001b[0m\u001b[0m\n\u001b[1;32m--> 917\u001b[1;33m       \u001b[1;32mreturn\u001b[0m \u001b[0mself\u001b[0m\u001b[1;33m.\u001b[0m\u001b[0m_stateless_fn\u001b[0m\u001b[1;33m(\u001b[0m\u001b[1;33m*\u001b[0m\u001b[0margs\u001b[0m\u001b[1;33m,\u001b[0m \u001b[1;33m**\u001b[0m\u001b[0mkwds\u001b[0m\u001b[1;33m)\u001b[0m  \u001b[1;31m# pylint: disable=not-callable\u001b[0m\u001b[1;33m\u001b[0m\u001b[1;33m\u001b[0m\u001b[0m\n\u001b[0m\u001b[0;32m    918\u001b[0m     \u001b[1;32melif\u001b[0m \u001b[0mself\u001b[0m\u001b[1;33m.\u001b[0m\u001b[0m_stateful_fn\u001b[0m \u001b[1;32mis\u001b[0m \u001b[1;32mnot\u001b[0m \u001b[1;32mNone\u001b[0m\u001b[1;33m:\u001b[0m\u001b[1;33m\u001b[0m\u001b[1;33m\u001b[0m\u001b[0m\n\u001b[0;32m    919\u001b[0m       \u001b[1;31m# Release the lock early so that multiple threads can perform the call\u001b[0m\u001b[1;33m\u001b[0m\u001b[1;33m\u001b[0m\u001b[1;33m\u001b[0m\u001b[0m\n",
      "\u001b[1;32mc:\\Users\\ABHIJITH UDAYAKUMAR\\.conda\\envs\\tensorflow\\lib\\site-packages\\tensorflow\\python\\eager\\function.py\u001b[0m in \u001b[0;36m__call__\u001b[1;34m(self, *args, **kwargs)\u001b[0m\n\u001b[0;32m   3038\u001b[0m        filtered_flat_args) = self._maybe_define_function(args, kwargs)\n\u001b[0;32m   3039\u001b[0m     return graph_function._call_flat(\n\u001b[1;32m-> 3040\u001b[1;33m         filtered_flat_args, captured_inputs=graph_function.captured_inputs)  # pylint: disable=protected-access\n\u001b[0m\u001b[0;32m   3041\u001b[0m \u001b[1;33m\u001b[0m\u001b[0m\n\u001b[0;32m   3042\u001b[0m   \u001b[1;33m@\u001b[0m\u001b[0mproperty\u001b[0m\u001b[1;33m\u001b[0m\u001b[1;33m\u001b[0m\u001b[0m\n",
      "\u001b[1;32mc:\\Users\\ABHIJITH UDAYAKUMAR\\.conda\\envs\\tensorflow\\lib\\site-packages\\tensorflow\\python\\eager\\function.py\u001b[0m in \u001b[0;36m_call_flat\u001b[1;34m(self, args, captured_inputs, cancellation_manager)\u001b[0m\n\u001b[0;32m   1962\u001b[0m       \u001b[1;31m# No tape is watching; skip to running the function.\u001b[0m\u001b[1;33m\u001b[0m\u001b[1;33m\u001b[0m\u001b[1;33m\u001b[0m\u001b[0m\n\u001b[0;32m   1963\u001b[0m       return self._build_call_outputs(self._inference_function.call(\n\u001b[1;32m-> 1964\u001b[1;33m           ctx, args, cancellation_manager=cancellation_manager))\n\u001b[0m\u001b[0;32m   1965\u001b[0m     forward_backward = self._select_forward_and_backward_functions(\n\u001b[0;32m   1966\u001b[0m         \u001b[0margs\u001b[0m\u001b[1;33m,\u001b[0m\u001b[1;33m\u001b[0m\u001b[1;33m\u001b[0m\u001b[0m\n",
      "\u001b[1;32mc:\\Users\\ABHIJITH UDAYAKUMAR\\.conda\\envs\\tensorflow\\lib\\site-packages\\tensorflow\\python\\eager\\function.py\u001b[0m in \u001b[0;36mcall\u001b[1;34m(self, ctx, args, cancellation_manager)\u001b[0m\n\u001b[0;32m    594\u001b[0m               \u001b[0minputs\u001b[0m\u001b[1;33m=\u001b[0m\u001b[0margs\u001b[0m\u001b[1;33m,\u001b[0m\u001b[1;33m\u001b[0m\u001b[1;33m\u001b[0m\u001b[0m\n\u001b[0;32m    595\u001b[0m               \u001b[0mattrs\u001b[0m\u001b[1;33m=\u001b[0m\u001b[0mattrs\u001b[0m\u001b[1;33m,\u001b[0m\u001b[1;33m\u001b[0m\u001b[1;33m\u001b[0m\u001b[0m\n\u001b[1;32m--> 596\u001b[1;33m               ctx=ctx)\n\u001b[0m\u001b[0;32m    597\u001b[0m         \u001b[1;32melse\u001b[0m\u001b[1;33m:\u001b[0m\u001b[1;33m\u001b[0m\u001b[1;33m\u001b[0m\u001b[0m\n\u001b[0;32m    598\u001b[0m           outputs = execute.execute_with_cancellation(\n",
      "\u001b[1;32mc:\\Users\\ABHIJITH UDAYAKUMAR\\.conda\\envs\\tensorflow\\lib\\site-packages\\tensorflow\\python\\eager\\execute.py\u001b[0m in \u001b[0;36mquick_execute\u001b[1;34m(op_name, num_outputs, inputs, attrs, ctx, name)\u001b[0m\n\u001b[0;32m     58\u001b[0m     \u001b[0mctx\u001b[0m\u001b[1;33m.\u001b[0m\u001b[0mensure_initialized\u001b[0m\u001b[1;33m(\u001b[0m\u001b[1;33m)\u001b[0m\u001b[1;33m\u001b[0m\u001b[1;33m\u001b[0m\u001b[0m\n\u001b[0;32m     59\u001b[0m     tensors = pywrap_tfe.TFE_Py_Execute(ctx._handle, device_name, op_name,\n\u001b[1;32m---> 60\u001b[1;33m                                         inputs, attrs, num_outputs)\n\u001b[0m\u001b[0;32m     61\u001b[0m   \u001b[1;32mexcept\u001b[0m \u001b[0mcore\u001b[0m\u001b[1;33m.\u001b[0m\u001b[0m_NotOkStatusException\u001b[0m \u001b[1;32mas\u001b[0m \u001b[0me\u001b[0m\u001b[1;33m:\u001b[0m\u001b[1;33m\u001b[0m\u001b[1;33m\u001b[0m\u001b[0m\n\u001b[0;32m     62\u001b[0m     \u001b[1;32mif\u001b[0m \u001b[0mname\u001b[0m \u001b[1;32mis\u001b[0m \u001b[1;32mnot\u001b[0m \u001b[1;32mNone\u001b[0m\u001b[1;33m:\u001b[0m\u001b[1;33m\u001b[0m\u001b[1;33m\u001b[0m\u001b[0m\n",
      "\u001b[1;31mKeyboardInterrupt\u001b[0m: "
     ]
    }
   ],
   "source": [
    "# optimizer = adam_v2.Adam(learning_rate=0.0002)   #\"adam\" #'RMSprop'\n",
    "# loss = tf.keras.losses.CategoricalCrossentropy()\n",
    "loss = tf.keras.losses.SparseCategoricalCrossentropy()  #(from_logits=True)\n",
    "model.compile(optimizer='adam', loss=loss, metrics=['accuracy'])\n",
    "\n",
    "epochs = 50\n",
    "history_model = model.fit(\n",
    "                    train_gen,\n",
    "                    validation_data=val_gen,\n",
    "                    epochs=epochs,\n",
    "                    callbacks=callbacks,\n",
    "                    verbose=1)"
   ]
  },
  {
   "cell_type": "code",
   "execution_count": 2,
   "metadata": {},
   "outputs": [
    {
     "name": "stdout",
     "output_type": "stream",
     "text": [
      "[name: \"/device:CPU:0\"\n",
      "device_type: \"CPU\"\n",
      "memory_limit: 268435456\n",
      "locality {\n",
      "}\n",
      "incarnation: 12203141405949681986\n",
      ", name: \"/device:GPU:0\"\n",
      "device_type: \"GPU\"\n",
      "memory_limit: 16034824192\n",
      "locality {\n",
      "  bus_id: 1\n",
      "  links {\n",
      "  }\n",
      "}\n",
      "incarnation: 8112657536113242613\n",
      "physical_device_desc: \"device: 0, name: NVIDIA GeForce RTX 2060, pci bus id: 0000:01:00.0, compute capability: 7.5\"\n",
      "]\n",
      "\n",
      "\n",
      "Num GPUs Available:  1\n"
     ]
    }
   ],
   "source": [
    "from tensorflow.python.client import device_lib \n",
    "print(device_lib.list_local_devices())\n",
    "\n",
    "print()\n",
    "print()\n",
    "\n",
    "import tensorflow as tf\n",
    "print(\"Num GPUs Available: \", len(tf.config.list_physical_devices('GPU')))\n",
    "\n",
    "# import tensorflow as tf\n",
    "# gpus = tf.config.list_physical_devices('GPU')\n",
    "# if gpus: \n",
    "#     tf.config.set_logical_device_configuration(\n",
    "#         gpus[0],\n",
    "#         [tf.config.LogicalDeviceConfiguration(memory_limit=15292)]\n",
    "#     )\n",
    "\n",
    "# logical_gpus = tf.config.list_logical_devices('GPU')\n",
    "# print(logical_gpus)\n",
    "# print(len(gpus), \"Physical GPU,\", len(logical_gpus), \"Logical GPUs\")"
   ]
  },
  {
   "cell_type": "code",
   "execution_count": null,
   "metadata": {},
   "outputs": [],
   "source": [
    "# function to plot the training/validation accuracies/losses.\n",
    "\n",
    "def plot_learning(history):\n",
    "    fig, axes = plt.subplots(nrows=1, ncols=2, figsize=(15,4))\n",
    "    axes[0].plot(history.history['loss'])   \n",
    "    axes[0].plot(history.history['val_loss'])\n",
    "    #axes[0].grid()\n",
    "    axes[0].legend(['loss','val_loss'])\n",
    "    axes[1].plot(history.history['accuracy'])   \n",
    "    axes[1].plot(history.history['val_accuracy'])\n",
    "    #axes[1].grid()\n",
    "    axes[1].legend(['accuracy','val_accuracy'])"
   ]
  },
  {
   "cell_type": "code",
   "execution_count": null,
   "metadata": {},
   "outputs": [],
   "source": [
    "plot_learning(history_model)"
   ]
  },
  {
   "cell_type": "code",
   "execution_count": null,
   "metadata": {},
   "outputs": [],
   "source": []
  }
 ],
 "metadata": {
  "kernelspec": {
   "display_name": "Python 3.9.13 ('tf_gpu')",
   "language": "python",
   "name": "python3"
  },
  "language_info": {
   "codemirror_mode": {
    "name": "ipython",
    "version": 3
   },
   "file_extension": ".py",
   "mimetype": "text/x-python",
   "name": "python",
   "nbconvert_exporter": "python",
   "pygments_lexer": "ipython3",
   "version": "3.9.13"
  },
  "orig_nbformat": 4,
  "vscode": {
   "interpreter": {
    "hash": "2dda02249f3a85fed6a16d4776c67b4645c16b9060126c998c6a5f674f8bbcb4"
   }
  }
 },
 "nbformat": 4,
 "nbformat_minor": 2
}
