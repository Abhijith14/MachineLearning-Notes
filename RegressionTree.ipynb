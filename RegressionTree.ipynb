{
 "cells": [
  {
   "cell_type": "markdown",
   "metadata": {},
   "source": [
    "# Regression Trees"
   ]
  },
  {
   "cell_type": "markdown",
   "metadata": {},
   "source": [
    "Regression trees are a type of decision tree that are used for regression problems. They are similar to classification trees, but instead of predicting a class, they predict a value. The value can be continuous or discrete."
   ]
  },
  {
   "cell_type": "markdown",
   "metadata": {},
   "source": [
    "RSS : Residual Sum of Squares\n",
    "RSS for split j = sum over i $(yi - y^i)^2$"
   ]
  },
  {
   "cell_type": "markdown",
   "metadata": {},
   "source": [
    "$$RSS = \\sum_{i \\in R_1} (y_i - \\hat{y}_{R_1})^2 + \\sum_{i \\in R_2} (y_i - \\hat{y}_{R_2})^2$$\n",
    "\n",
    "where $\\hat{y}_{R_1}$ and $\\hat{y}_{R_2}$ are the mean of $R_1$ and $R_2$ respectively."
   ]
  },
  {
   "cell_type": "markdown",
   "metadata": {},
   "source": [
    "Horizontal split is the split that minimizes RSS."
   ]
  },
  {
   "cell_type": "markdown",
   "metadata": {},
   "source": [
    "Vertical split is the split that minimizes RSS."
   ]
  },
  {
   "cell_type": "markdown",
   "metadata": {},
   "source": [
    "Finding the best split is a greedy algorithm. It starts at the root node and greedily splits the node into two child nodes. It then repeats the process on each child node until a stopping criterion is met."
   ]
  },
  {
   "cell_type": "markdown",
   "metadata": {},
   "source": [
    "When to stop splitting?\n",
    "There are many stopping criteria. Some of the most common are:\n",
    "- Minimum number of samples per node\n",
    "- Maximum depth\n",
    "- Minimum impurity\n",
    "\n",
    "has been reached."
   ]
  },
  {
   "cell_type": "markdown",
   "metadata": {},
   "source": [
    "Tree complexity:\n",
    "- min_samples (As increases, the tree becomes less sensitive to noise).\n",
    "    - min_samples too low, tree is highly sensitive to noise.\n",
    "    - As min_samples increases, the tree becomes less sensitive to noise.\n",
    "    - min_samples too high, tree won't be expressive enough."
   ]
  },
  {
   "cell_type": "markdown",
   "metadata": {},
   "source": [
    "<hr>"
   ]
  },
  {
   "cell_type": "markdown",
   "metadata": {},
   "source": [
    "# Ensemble Learning"
   ]
  },
  {
   "cell_type": "markdown",
   "metadata": {},
   "source": [
    "What is Ensemble Learning?\n",
    "- Ensemble learning is a machine learning paradigm where multiple models, such as classifiers or experts, are strategically generated and combined to solve a particular computational intelligence problem. It is usually applied to classification problems, but it can also be used for regression."
   ]
  },
  {
   "cell_type": "markdown",
   "metadata": {},
   "source": [
    "Using multiple trees to make predictions and then evaluating their performance."
   ]
  },
  {
   "cell_type": "markdown",
   "metadata": {},
   "source": [
    "Bagging : Bootstrap Aggregation\n",
    "- Bagging is a general-purpose procedure for reducing the variance of a statistical learning method.\n",
    "- Bootstrap sampling is a technique for estimating statistics on a population by averaging estimates from multiple smaller data samples with replacement."
   ]
  },
  {
   "cell_type": "markdown",
   "metadata": {},
   "source": [
    "No Cross Validation is used."
   ]
  },
  {
   "cell_type": "markdown",
   "metadata": {},
   "source": [
    "Out-of-Bag (OOB) error:\n",
    "- OOB error is the average error for each prediction that uses predictions from the trees that do not contain that observation in their bootstrap sample.\n",
    "- Calculate overall OOB MSE or classification error."
   ]
  },
  {
   "cell_type": "markdown",
   "metadata": {},
   "source": [
    "Problems with Bagging:\n",
    "- Trees are highly correlated unles we randomly select subset."
   ]
  },
  {
   "cell_type": "markdown",
   "metadata": {},
   "source": [
    "<hr>"
   ]
  },
  {
   "cell_type": "markdown",
   "metadata": {},
   "source": [
    "# Random Forests"
   ]
  },
  {
   "cell_type": "markdown",
   "metadata": {},
   "source": [
    "Random Forests are an ensemble of decision trees. They are a type of bagging method."
   ]
  },
  {
   "cell_type": "markdown",
   "metadata": {},
   "source": [
    "Random Subspace Sampling: Randomly select a subset of features to use for each split."
   ]
  },
  {
   "cell_type": "markdown",
   "metadata": {},
   "source": [
    "<hr>"
   ]
  },
  {
   "cell_type": "markdown",
   "metadata": {},
   "source": []
  }
 ],
 "metadata": {
  "language_info": {
   "name": "python"
  },
  "orig_nbformat": 4
 },
 "nbformat": 4,
 "nbformat_minor": 2
}
